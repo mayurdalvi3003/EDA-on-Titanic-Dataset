{
 "cells": [
  {
   "cell_type": "code",
   "execution_count": 1,
   "id": "bed94db2-cc7c-4547-9b3b-a7111fd3390f",
   "metadata": {},
   "outputs": [],
   "source": [
    "import pandas as pd \n",
    "import numpy as np\n",
    "import matplotlib.pyplot as plt\n",
    "import seaborn as sns "
   ]
  },
  {
   "cell_type": "code",
   "execution_count": 2,
   "id": "8b3a15c6-7151-493c-97b5-0f04159f8dd8",
   "metadata": {},
   "outputs": [
    {
     "data": {
      "text/plain": [
       "(891, 12)"
      ]
     },
     "execution_count": 2,
     "metadata": {},
     "output_type": "execute_result"
    }
   ],
   "source": [
    "df1 = pd.read_csv(\"train.csv\")\n",
    "df1.head()\n",
    "df1.shape"
   ]
  },
  {
   "cell_type": "code",
   "execution_count": 3,
   "id": "f934a3ac-a838-4569-9a11-d72bbedb0956",
   "metadata": {},
   "outputs": [
    {
     "data": {
      "text/plain": [
       "(418, 11)"
      ]
     },
     "execution_count": 3,
     "metadata": {},
     "output_type": "execute_result"
    }
   ],
   "source": [
    "df2 = pd.read_csv(\"test.csv\")\n",
    "df2.head()\n",
    "df2.shape"
   ]
  },
  {
   "cell_type": "code",
   "execution_count": 4,
   "id": "9bd93afa-b89f-4cf6-837b-5efd9ef54a64",
   "metadata": {},
   "outputs": [],
   "source": [
    "df = pd.concat([df1 ,df2], ignore_index=True)"
   ]
  },
  {
   "cell_type": "code",
   "execution_count": 5,
   "id": "850b8175-3a3e-4366-bd0e-f2b3fa1d4619",
   "metadata": {},
   "outputs": [],
   "source": [
    "df.to_csv(\"TITANIC DATASET_updated.csv\")"
   ]
  },
  {
   "cell_type": "markdown",
   "id": "fa965891-d05f-4657-ad40-bdeaee60795f",
   "metadata": {},
   "source": [
    "# Data Cleaning :- "
   ]
  },
  {
   "cell_type": "code",
   "execution_count": 6,
   "id": "c5f9966b-b674-4688-ad60-2c8d834f24cd",
   "metadata": {},
   "outputs": [],
   "source": [
    "# make a copy of your dataset\n",
    "new_df = df.copy()"
   ]
  },
  {
   "cell_type": "code",
   "execution_count": 7,
   "id": "28ac8efa-fd76-4b9e-8cdf-5d561456df42",
   "metadata": {},
   "outputs": [
    {
     "data": {
      "text/html": [
       "<div>\n",
       "<style scoped>\n",
       "    .dataframe tbody tr th:only-of-type {\n",
       "        vertical-align: middle;\n",
       "    }\n",
       "\n",
       "    .dataframe tbody tr th {\n",
       "        vertical-align: top;\n",
       "    }\n",
       "\n",
       "    .dataframe thead th {\n",
       "        text-align: right;\n",
       "    }\n",
       "</style>\n",
       "<table border=\"1\" class=\"dataframe\">\n",
       "  <thead>\n",
       "    <tr style=\"text-align: right;\">\n",
       "      <th></th>\n",
       "      <th>PassengerId</th>\n",
       "      <th>Survived</th>\n",
       "      <th>Pclass</th>\n",
       "      <th>Name</th>\n",
       "      <th>Sex</th>\n",
       "      <th>Age</th>\n",
       "      <th>SibSp</th>\n",
       "      <th>Parch</th>\n",
       "      <th>Ticket</th>\n",
       "      <th>Fare</th>\n",
       "      <th>Cabin</th>\n",
       "      <th>Embarked</th>\n",
       "    </tr>\n",
       "  </thead>\n",
       "  <tbody>\n",
       "    <tr>\n",
       "      <th>0</th>\n",
       "      <td>1</td>\n",
       "      <td>0.0</td>\n",
       "      <td>3</td>\n",
       "      <td>Braund, Mr. Owen Harris</td>\n",
       "      <td>male</td>\n",
       "      <td>22.0</td>\n",
       "      <td>1</td>\n",
       "      <td>0</td>\n",
       "      <td>A/5 21171</td>\n",
       "      <td>7.2500</td>\n",
       "      <td>NaN</td>\n",
       "      <td>S</td>\n",
       "    </tr>\n",
       "    <tr>\n",
       "      <th>1</th>\n",
       "      <td>2</td>\n",
       "      <td>1.0</td>\n",
       "      <td>1</td>\n",
       "      <td>Cumings, Mrs. John Bradley (Florence Briggs Th...</td>\n",
       "      <td>female</td>\n",
       "      <td>38.0</td>\n",
       "      <td>1</td>\n",
       "      <td>0</td>\n",
       "      <td>PC 17599</td>\n",
       "      <td>71.2833</td>\n",
       "      <td>C85</td>\n",
       "      <td>C</td>\n",
       "    </tr>\n",
       "    <tr>\n",
       "      <th>2</th>\n",
       "      <td>3</td>\n",
       "      <td>1.0</td>\n",
       "      <td>3</td>\n",
       "      <td>Heikkinen, Miss. Laina</td>\n",
       "      <td>female</td>\n",
       "      <td>26.0</td>\n",
       "      <td>0</td>\n",
       "      <td>0</td>\n",
       "      <td>STON/O2. 3101282</td>\n",
       "      <td>7.9250</td>\n",
       "      <td>NaN</td>\n",
       "      <td>S</td>\n",
       "    </tr>\n",
       "    <tr>\n",
       "      <th>3</th>\n",
       "      <td>4</td>\n",
       "      <td>1.0</td>\n",
       "      <td>1</td>\n",
       "      <td>Futrelle, Mrs. Jacques Heath (Lily May Peel)</td>\n",
       "      <td>female</td>\n",
       "      <td>35.0</td>\n",
       "      <td>1</td>\n",
       "      <td>0</td>\n",
       "      <td>113803</td>\n",
       "      <td>53.1000</td>\n",
       "      <td>C123</td>\n",
       "      <td>S</td>\n",
       "    </tr>\n",
       "    <tr>\n",
       "      <th>4</th>\n",
       "      <td>5</td>\n",
       "      <td>0.0</td>\n",
       "      <td>3</td>\n",
       "      <td>Allen, Mr. William Henry</td>\n",
       "      <td>male</td>\n",
       "      <td>35.0</td>\n",
       "      <td>0</td>\n",
       "      <td>0</td>\n",
       "      <td>373450</td>\n",
       "      <td>8.0500</td>\n",
       "      <td>NaN</td>\n",
       "      <td>S</td>\n",
       "    </tr>\n",
       "    <tr>\n",
       "      <th>...</th>\n",
       "      <td>...</td>\n",
       "      <td>...</td>\n",
       "      <td>...</td>\n",
       "      <td>...</td>\n",
       "      <td>...</td>\n",
       "      <td>...</td>\n",
       "      <td>...</td>\n",
       "      <td>...</td>\n",
       "      <td>...</td>\n",
       "      <td>...</td>\n",
       "      <td>...</td>\n",
       "      <td>...</td>\n",
       "    </tr>\n",
       "    <tr>\n",
       "      <th>1304</th>\n",
       "      <td>1305</td>\n",
       "      <td>NaN</td>\n",
       "      <td>3</td>\n",
       "      <td>Spector, Mr. Woolf</td>\n",
       "      <td>male</td>\n",
       "      <td>NaN</td>\n",
       "      <td>0</td>\n",
       "      <td>0</td>\n",
       "      <td>A.5. 3236</td>\n",
       "      <td>8.0500</td>\n",
       "      <td>NaN</td>\n",
       "      <td>S</td>\n",
       "    </tr>\n",
       "    <tr>\n",
       "      <th>1305</th>\n",
       "      <td>1306</td>\n",
       "      <td>NaN</td>\n",
       "      <td>1</td>\n",
       "      <td>Oliva y Ocana, Dona. Fermina</td>\n",
       "      <td>female</td>\n",
       "      <td>39.0</td>\n",
       "      <td>0</td>\n",
       "      <td>0</td>\n",
       "      <td>PC 17758</td>\n",
       "      <td>108.9000</td>\n",
       "      <td>C105</td>\n",
       "      <td>C</td>\n",
       "    </tr>\n",
       "    <tr>\n",
       "      <th>1306</th>\n",
       "      <td>1307</td>\n",
       "      <td>NaN</td>\n",
       "      <td>3</td>\n",
       "      <td>Saether, Mr. Simon Sivertsen</td>\n",
       "      <td>male</td>\n",
       "      <td>38.5</td>\n",
       "      <td>0</td>\n",
       "      <td>0</td>\n",
       "      <td>SOTON/O.Q. 3101262</td>\n",
       "      <td>7.2500</td>\n",
       "      <td>NaN</td>\n",
       "      <td>S</td>\n",
       "    </tr>\n",
       "    <tr>\n",
       "      <th>1307</th>\n",
       "      <td>1308</td>\n",
       "      <td>NaN</td>\n",
       "      <td>3</td>\n",
       "      <td>Ware, Mr. Frederick</td>\n",
       "      <td>male</td>\n",
       "      <td>NaN</td>\n",
       "      <td>0</td>\n",
       "      <td>0</td>\n",
       "      <td>359309</td>\n",
       "      <td>8.0500</td>\n",
       "      <td>NaN</td>\n",
       "      <td>S</td>\n",
       "    </tr>\n",
       "    <tr>\n",
       "      <th>1308</th>\n",
       "      <td>1309</td>\n",
       "      <td>NaN</td>\n",
       "      <td>3</td>\n",
       "      <td>Peter, Master. Michael J</td>\n",
       "      <td>male</td>\n",
       "      <td>NaN</td>\n",
       "      <td>1</td>\n",
       "      <td>1</td>\n",
       "      <td>2668</td>\n",
       "      <td>22.3583</td>\n",
       "      <td>NaN</td>\n",
       "      <td>C</td>\n",
       "    </tr>\n",
       "  </tbody>\n",
       "</table>\n",
       "<p>1309 rows × 12 columns</p>\n",
       "</div>"
      ],
      "text/plain": [
       "      PassengerId  Survived  Pclass  \\\n",
       "0               1       0.0       3   \n",
       "1               2       1.0       1   \n",
       "2               3       1.0       3   \n",
       "3               4       1.0       1   \n",
       "4               5       0.0       3   \n",
       "...           ...       ...     ...   \n",
       "1304         1305       NaN       3   \n",
       "1305         1306       NaN       1   \n",
       "1306         1307       NaN       3   \n",
       "1307         1308       NaN       3   \n",
       "1308         1309       NaN       3   \n",
       "\n",
       "                                                   Name     Sex   Age  SibSp  \\\n",
       "0                               Braund, Mr. Owen Harris    male  22.0      1   \n",
       "1     Cumings, Mrs. John Bradley (Florence Briggs Th...  female  38.0      1   \n",
       "2                                Heikkinen, Miss. Laina  female  26.0      0   \n",
       "3          Futrelle, Mrs. Jacques Heath (Lily May Peel)  female  35.0      1   \n",
       "4                              Allen, Mr. William Henry    male  35.0      0   \n",
       "...                                                 ...     ...   ...    ...   \n",
       "1304                                 Spector, Mr. Woolf    male   NaN      0   \n",
       "1305                       Oliva y Ocana, Dona. Fermina  female  39.0      0   \n",
       "1306                       Saether, Mr. Simon Sivertsen    male  38.5      0   \n",
       "1307                                Ware, Mr. Frederick    male   NaN      0   \n",
       "1308                           Peter, Master. Michael J    male   NaN      1   \n",
       "\n",
       "      Parch              Ticket      Fare Cabin Embarked  \n",
       "0         0           A/5 21171    7.2500   NaN        S  \n",
       "1         0            PC 17599   71.2833   C85        C  \n",
       "2         0    STON/O2. 3101282    7.9250   NaN        S  \n",
       "3         0              113803   53.1000  C123        S  \n",
       "4         0              373450    8.0500   NaN        S  \n",
       "...     ...                 ...       ...   ...      ...  \n",
       "1304      0           A.5. 3236    8.0500   NaN        S  \n",
       "1305      0            PC 17758  108.9000  C105        C  \n",
       "1306      0  SOTON/O.Q. 3101262    7.2500   NaN        S  \n",
       "1307      0              359309    8.0500   NaN        S  \n",
       "1308      1                2668   22.3583   NaN        C  \n",
       "\n",
       "[1309 rows x 12 columns]"
      ]
     },
     "execution_count": 7,
     "metadata": {},
     "output_type": "execute_result"
    }
   ],
   "source": [
    "new_df"
   ]
  },
  {
   "cell_type": "code",
   "execution_count": 8,
   "id": "c704036a-2188-4faf-bd28-2f942569af6a",
   "metadata": {},
   "outputs": [
    {
     "name": "stdout",
     "output_type": "stream",
     "text": [
      "<class 'pandas.core.frame.DataFrame'>\n",
      "RangeIndex: 1309 entries, 0 to 1308\n",
      "Data columns (total 12 columns):\n",
      " #   Column       Non-Null Count  Dtype  \n",
      "---  ------       --------------  -----  \n",
      " 0   PassengerId  1309 non-null   int64  \n",
      " 1   Survived     891 non-null    float64\n",
      " 2   Pclass       1309 non-null   int64  \n",
      " 3   Name         1309 non-null   object \n",
      " 4   Sex          1309 non-null   object \n",
      " 5   Age          1046 non-null   float64\n",
      " 6   SibSp        1309 non-null   int64  \n",
      " 7   Parch        1309 non-null   int64  \n",
      " 8   Ticket       1309 non-null   object \n",
      " 9   Fare         1308 non-null   float64\n",
      " 10  Cabin        295 non-null    object \n",
      " 11  Embarked     1307 non-null   object \n",
      "dtypes: float64(3), int64(4), object(5)\n",
      "memory usage: 122.8+ KB\n"
     ]
    }
   ],
   "source": [
    "df.info()"
   ]
  },
  {
   "cell_type": "code",
   "execution_count": 9,
   "id": "65968095-bb3b-4c1a-bd48-8d8ebb540880",
   "metadata": {},
   "outputs": [
    {
     "data": {
      "text/plain": [
       "PassengerId       0\n",
       "Survived        418\n",
       "Pclass            0\n",
       "Name              0\n",
       "Sex               0\n",
       "Age             263\n",
       "SibSp             0\n",
       "Parch             0\n",
       "Ticket            0\n",
       "Fare              1\n",
       "Cabin          1014\n",
       "Embarked          2\n",
       "dtype: int64"
      ]
     },
     "execution_count": 9,
     "metadata": {},
     "output_type": "execute_result"
    }
   ],
   "source": [
    "df.isnull().sum()"
   ]
  },
  {
   "cell_type": "code",
   "execution_count": 10,
   "id": "baeae1a1-61e5-4107-9b07-da3e64988afc",
   "metadata": {},
   "outputs": [
    {
     "data": {
      "text/plain": [
       "Index(['PassengerId', 'Survived', 'Pclass', 'Name', 'Sex', 'Age', 'SibSp',\n",
       "       'Parch', 'Ticket', 'Fare', 'Cabin', 'Embarked'],\n",
       "      dtype='object')"
      ]
     },
     "execution_count": 10,
     "metadata": {},
     "output_type": "execute_result"
    }
   ],
   "source": [
    "df.columns"
   ]
  },
  {
   "cell_type": "markdown",
   "id": "29f7af0e-9e77-48ab-a34a-12be02cbea0d",
   "metadata": {},
   "source": [
    "# Cleaning points :- \n",
    "- Remove passenger id\n",
    "- Change dtypes of \"Survived\" ,\"Pclass\" ,\"Sex\" ,\"Embarked\" into the category data type\n",
    "- fill missing values after the EDA\n",
    "- Survived , Age , Cabin and Embarked col has missing values\n",
    "- "
   ]
  },
  {
   "cell_type": "code",
   "execution_count": 11,
   "id": "a0d1e602-2fc6-4150-bb0e-0c442e8df00c",
   "metadata": {},
   "outputs": [],
   "source": [
    "# remove passenger id col\n",
    "df.drop(columns='PassengerId' , inplace=True)"
   ]
  },
  {
   "cell_type": "code",
   "execution_count": 12,
   "id": "cd6fc6a2-5152-4893-bdc8-59bd467718df",
   "metadata": {},
   "outputs": [],
   "source": [
    "# Change dtypes of \"Survived\" ,\"Pclass\" ,\"Sex\" ,\"Embarked\" into the category data type\n",
    "df[\"Survived\"] = df[\"Survived\"].astype(\"category\")\n",
    "df[\"Sex\"] = df[\"Sex\"].astype(\"category\")\n",
    "df[\"Pclass\"] = df[\"Pclass\"].astype(\"category\")\n",
    "df[\"Embarked\"] = df[\"Embarked\"].astype(\"category\")"
   ]
  },
  {
   "cell_type": "code",
   "execution_count": 13,
   "id": "44012ba9-264a-4125-bfe6-9cefc06636ed",
   "metadata": {},
   "outputs": [
    {
     "data": {
      "text/plain": [
       "Survived    category\n",
       "Pclass      category\n",
       "Name          object\n",
       "Sex         category\n",
       "Age          float64\n",
       "SibSp          int64\n",
       "Parch          int64\n",
       "Ticket        object\n",
       "Fare         float64\n",
       "Cabin         object\n",
       "Embarked    category\n",
       "dtype: object"
      ]
     },
     "execution_count": 13,
     "metadata": {},
     "output_type": "execute_result"
    }
   ],
   "source": [
    "df.dtypes\n"
   ]
  },
  {
   "cell_type": "markdown",
   "id": "2f8cd26e-02e6-4614-9b6a-f1c168f1def8",
   "metadata": {},
   "source": [
    "### 1. Column Types\n",
    "\n",
    "- **Numerical** - Age,Fare,PassengerId\n",
    "- **Categorical** - Survived, Pclass, Sex, SibSp, Parch,Embarked\n",
    "- **Mixed** - Name, Ticket, Cabin"
   ]
  },
  {
   "cell_type": "markdown",
   "id": "0f5ea581-a77c-4cc5-a396-47e92689166a",
   "metadata": {},
   "source": [
    "# Univariate analysis(On numerical col) :- \n"
   ]
  },
  {
   "cell_type": "markdown",
   "id": "f7ae5d32-f26d-42b1-9069-fe5138a8f0f6",
   "metadata": {},
   "source": [
    "### Age col"
   ]
  },
  {
   "cell_type": "code",
   "execution_count": 14,
   "id": "28972baf-c39f-4313-ba6d-643efd5ec12a",
   "metadata": {},
   "outputs": [
    {
     "data": {
      "text/plain": [
       "count    1046.000000\n",
       "mean       29.881138\n",
       "std        14.413493\n",
       "min         0.170000\n",
       "25%        21.000000\n",
       "50%        28.000000\n",
       "75%        39.000000\n",
       "max        80.000000\n",
       "Name: Age, dtype: float64"
      ]
     },
     "execution_count": 14,
     "metadata": {},
     "output_type": "execute_result"
    }
   ],
   "source": [
    "df[\"Age\"].describe()"
   ]
  },
  {
   "cell_type": "code",
   "execution_count": 15,
   "id": "55dfb52d-fc26-4383-989e-d1015ea868a5",
   "metadata": {},
   "outputs": [
    {
     "data": {
      "text/plain": [
       "<Axes: ylabel='Frequency'>"
      ]
     },
     "execution_count": 15,
     "metadata": {},
     "output_type": "execute_result"
    },
    {
     "data": {
      "image/png": "[encoded data removed]",
      "text/plain": [
       "<Figure size 640x480 with 1 Axes>"
      ]
     },
     "metadata": {},
     "output_type": "display_data"
    }
   ],
   "source": [
    "df[\"Age\"].plot(kind = \"hist\" , bins = 20)"
   ]
  },
  {
   "cell_type": "code",
   "execution_count": 16,
   "id": "771c0fc3-4da3-4089-8d20-8cdbb6c51326",
   "metadata": {},
   "outputs": [
    {
     "data": {
      "text/plain": [
       "<Axes: ylabel='Density'>"
      ]
     },
     "execution_count": 16,
     "metadata": {},
     "output_type": "execute_result"
    },
    {
     "data": {
      "image/png": "[encoded data removed]",
      "text/plain": [
       "<Figure size 640x480 with 1 Axes>"
      ]
     },
     "metadata": {},
     "output_type": "display_data"
    }
   ],
   "source": [
    "df[\"Age\"].plot(kind = \"kde\" ) # it seem normal distribution "
   ]
  },
  {
   "cell_type": "code",
   "execution_count": 17,
   "id": "afb9152a-a016-4322-838c-04f2ff9e659f",
   "metadata": {},
   "outputs": [
    {
     "data": {
      "text/plain": [
       "0.40767455974362266"
      ]
     },
     "execution_count": 17,
     "metadata": {},
     "output_type": "execute_result"
    }
   ],
   "source": [
    "df[\"Age\"].skew() # it is very closed to the 0 and that's why is seems like a normal distribution which is good to analysis"
   ]
  },
  {
   "cell_type": "code",
   "execution_count": 18,
   "id": "a9ec747a-90f6-4435-ad4e-67d54a7baea8",
   "metadata": {},
   "outputs": [
    {
     "data": {
      "text/plain": [
       "<Axes: >"
      ]
     },
     "execution_count": 18,
     "metadata": {},
     "output_type": "execute_result"
    },
    {
     "data": {
      "image/png": "[encoded data removed]",
      "text/plain": [
       "<Figure size 640x480 with 1 Axes>"
      ]
     },
     "metadata": {},
     "output_type": "display_data"
    }
   ],
   "source": [
    "df[\"Age\"].plot(kind = \"box\") # Age col is having outliers above 65"
   ]
  },
  {
   "cell_type": "code",
   "execution_count": 19,
   "id": "a1ea717e-1e65-454a-a22d-48e2afd524f8",
   "metadata": {},
   "outputs": [
    {
     "data": {
      "text/html": [
       "<div>\n",
       "<style scoped>\n",
       "    .dataframe tbody tr th:only-of-type {\n",
       "        vertical-align: middle;\n",
       "    }\n",
       "\n",
       "    .dataframe tbody tr th {\n",
       "        vertical-align: top;\n",
       "    }\n",
       "\n",
       "    .dataframe thead th {\n",
       "        text-align: right;\n",
       "    }\n",
       "</style>\n",
       "<table border=\"1\" class=\"dataframe\">\n",
       "  <thead>\n",
       "    <tr style=\"text-align: right;\">\n",
       "      <th></th>\n",
       "      <th>Survived</th>\n",
       "      <th>Pclass</th>\n",
       "      <th>Name</th>\n",
       "      <th>Sex</th>\n",
       "      <th>Age</th>\n",
       "      <th>SibSp</th>\n",
       "      <th>Parch</th>\n",
       "      <th>Ticket</th>\n",
       "      <th>Fare</th>\n",
       "      <th>Cabin</th>\n",
       "      <th>Embarked</th>\n",
       "    </tr>\n",
       "  </thead>\n",
       "  <tbody>\n",
       "    <tr>\n",
       "      <th>33</th>\n",
       "      <td>0.0</td>\n",
       "      <td>2</td>\n",
       "      <td>Wheadon, Mr. Edward H</td>\n",
       "      <td>male</td>\n",
       "      <td>66.0</td>\n",
       "      <td>0</td>\n",
       "      <td>0</td>\n",
       "      <td>C.A. 24579</td>\n",
       "      <td>10.5000</td>\n",
       "      <td>NaN</td>\n",
       "      <td>S</td>\n",
       "    </tr>\n",
       "    <tr>\n",
       "      <th>96</th>\n",
       "      <td>0.0</td>\n",
       "      <td>1</td>\n",
       "      <td>Goldschmidt, Mr. George B</td>\n",
       "      <td>male</td>\n",
       "      <td>71.0</td>\n",
       "      <td>0</td>\n",
       "      <td>0</td>\n",
       "      <td>PC 17754</td>\n",
       "      <td>34.6542</td>\n",
       "      <td>A5</td>\n",
       "      <td>C</td>\n",
       "    </tr>\n",
       "    <tr>\n",
       "      <th>116</th>\n",
       "      <td>0.0</td>\n",
       "      <td>3</td>\n",
       "      <td>Connors, Mr. Patrick</td>\n",
       "      <td>male</td>\n",
       "      <td>70.5</td>\n",
       "      <td>0</td>\n",
       "      <td>0</td>\n",
       "      <td>370369</td>\n",
       "      <td>7.7500</td>\n",
       "      <td>NaN</td>\n",
       "      <td>Q</td>\n",
       "    </tr>\n",
       "    <tr>\n",
       "      <th>493</th>\n",
       "      <td>0.0</td>\n",
       "      <td>1</td>\n",
       "      <td>Artagaveytia, Mr. Ramon</td>\n",
       "      <td>male</td>\n",
       "      <td>71.0</td>\n",
       "      <td>0</td>\n",
       "      <td>0</td>\n",
       "      <td>PC 17609</td>\n",
       "      <td>49.5042</td>\n",
       "      <td>NaN</td>\n",
       "      <td>C</td>\n",
       "    </tr>\n",
       "    <tr>\n",
       "      <th>630</th>\n",
       "      <td>1.0</td>\n",
       "      <td>1</td>\n",
       "      <td>Barkworth, Mr. Algernon Henry Wilson</td>\n",
       "      <td>male</td>\n",
       "      <td>80.0</td>\n",
       "      <td>0</td>\n",
       "      <td>0</td>\n",
       "      <td>27042</td>\n",
       "      <td>30.0000</td>\n",
       "      <td>A23</td>\n",
       "      <td>S</td>\n",
       "    </tr>\n",
       "    <tr>\n",
       "      <th>672</th>\n",
       "      <td>0.0</td>\n",
       "      <td>2</td>\n",
       "      <td>Mitchell, Mr. Henry Michael</td>\n",
       "      <td>male</td>\n",
       "      <td>70.0</td>\n",
       "      <td>0</td>\n",
       "      <td>0</td>\n",
       "      <td>C.A. 24580</td>\n",
       "      <td>10.5000</td>\n",
       "      <td>NaN</td>\n",
       "      <td>S</td>\n",
       "    </tr>\n",
       "    <tr>\n",
       "      <th>745</th>\n",
       "      <td>0.0</td>\n",
       "      <td>1</td>\n",
       "      <td>Crosby, Capt. Edward Gifford</td>\n",
       "      <td>male</td>\n",
       "      <td>70.0</td>\n",
       "      <td>1</td>\n",
       "      <td>1</td>\n",
       "      <td>WE/P 5735</td>\n",
       "      <td>71.0000</td>\n",
       "      <td>B22</td>\n",
       "      <td>S</td>\n",
       "    </tr>\n",
       "    <tr>\n",
       "      <th>851</th>\n",
       "      <td>0.0</td>\n",
       "      <td>3</td>\n",
       "      <td>Svensson, Mr. Johan</td>\n",
       "      <td>male</td>\n",
       "      <td>74.0</td>\n",
       "      <td>0</td>\n",
       "      <td>0</td>\n",
       "      <td>347060</td>\n",
       "      <td>7.7750</td>\n",
       "      <td>NaN</td>\n",
       "      <td>S</td>\n",
       "    </tr>\n",
       "    <tr>\n",
       "      <th>972</th>\n",
       "      <td>NaN</td>\n",
       "      <td>1</td>\n",
       "      <td>Straus, Mr. Isidor</td>\n",
       "      <td>male</td>\n",
       "      <td>67.0</td>\n",
       "      <td>1</td>\n",
       "      <td>0</td>\n",
       "      <td>PC 17483</td>\n",
       "      <td>221.7792</td>\n",
       "      <td>C55 C57</td>\n",
       "      <td>S</td>\n",
       "    </tr>\n",
       "    <tr>\n",
       "      <th>987</th>\n",
       "      <td>NaN</td>\n",
       "      <td>1</td>\n",
       "      <td>Cavendish, Mrs. Tyrell William (Julia Florence...</td>\n",
       "      <td>female</td>\n",
       "      <td>76.0</td>\n",
       "      <td>1</td>\n",
       "      <td>0</td>\n",
       "      <td>19877</td>\n",
       "      <td>78.8500</td>\n",
       "      <td>C46</td>\n",
       "      <td>S</td>\n",
       "    </tr>\n",
       "  </tbody>\n",
       "</table>\n",
       "</div>"
      ],
      "text/plain": [
       "    Survived Pclass                                               Name  \\\n",
       "33       0.0      2                              Wheadon, Mr. Edward H   \n",
       "96       0.0      1                          Goldschmidt, Mr. George B   \n",
       "116      0.0      3                               Connors, Mr. Patrick   \n",
       "493      0.0      1                            Artagaveytia, Mr. Ramon   \n",
       "630      1.0      1               Barkworth, Mr. Algernon Henry Wilson   \n",
       "672      0.0      2                        Mitchell, Mr. Henry Michael   \n",
       "745      0.0      1                       Crosby, Capt. Edward Gifford   \n",
       "851      0.0      3                                Svensson, Mr. Johan   \n",
       "972      NaN      1                                 Straus, Mr. Isidor   \n",
       "987      NaN      1  Cavendish, Mrs. Tyrell William (Julia Florence...   \n",
       "\n",
       "        Sex   Age  SibSp  Parch      Ticket      Fare    Cabin Embarked  \n",
       "33     male  66.0      0      0  C.A. 24579   10.5000      NaN        S  \n",
       "96     male  71.0      0      0    PC 17754   34.6542       A5        C  \n",
       "116    male  70.5      0      0      370369    7.7500      NaN        Q  \n",
       "493    male  71.0      0      0    PC 17609   49.5042      NaN        C  \n",
       "630    male  80.0      0      0       27042   30.0000      A23        S  \n",
       "672    male  70.0      0      0  C.A. 24580   10.5000      NaN        S  \n",
       "745    male  70.0      1      1   WE/P 5735   71.0000      B22        S  \n",
       "851    male  74.0      0      0      347060    7.7750      NaN        S  \n",
       "972    male  67.0      1      0    PC 17483  221.7792  C55 C57        S  \n",
       "987  female  76.0      1      0       19877   78.8500      C46        S  "
      ]
     },
     "execution_count": 19,
     "metadata": {},
     "output_type": "execute_result"
    }
   ],
   "source": [
    "# checking the outliers \n",
    "df[df[\"Age\"]>65]"
   ]
  },
  {
   "cell_type": "code",
   "execution_count": 20,
   "id": "fa26e373-6bb6-42df-8b12-2a33ac372da4",
   "metadata": {},
   "outputs": [
    {
     "data": {
      "text/plain": [
       "263"
      ]
     },
     "execution_count": 20,
     "metadata": {},
     "output_type": "execute_result"
    }
   ],
   "source": [
    "df[\"Age\"].isnull().sum() # there are 263 missing values i.e 20% missing values"
   ]
  },
  {
   "cell_type": "code",
   "execution_count": 21,
   "id": "7e463432-b0bc-4e0e-82f0-9d4aac762478",
   "metadata": {},
   "outputs": [
    {
     "data": {
      "text/plain": [
       "20.091673032849503"
      ]
     },
     "execution_count": 21,
     "metadata": {},
     "output_type": "execute_result"
    }
   ],
   "source": [
    "(263/1309)*100"
   ]
  },
  {
   "cell_type": "markdown",
   "id": "fad91aef-84f6-4936-87e2-d6c27258a81e",
   "metadata": {},
   "source": [
    "### Age\n",
    "\n",
    "**conclusions :-** \n",
    "\n",
    "- Age is normally(almost) distributed\n",
    "- 20% of the values are missing\n",
    "- There are some outliers"
   ]
  },
  {
   "cell_type": "markdown",
   "id": "83bca456-415c-4b2b-a94c-5fc2fc687cbc",
   "metadata": {},
   "source": [
    "### Fare col"
   ]
  },
  {
   "cell_type": "code",
   "execution_count": 22,
   "id": "3318bf06-3cb1-4bc4-9261-15b363b88ad2",
   "metadata": {},
   "outputs": [
    {
     "data": {
      "text/plain": [
       "count    1308.000000\n",
       "mean       33.295479\n",
       "std        51.758668\n",
       "min         0.000000\n",
       "25%         7.895800\n",
       "50%        14.454200\n",
       "75%        31.275000\n",
       "max       512.329200\n",
       "Name: Fare, dtype: float64"
      ]
     },
     "execution_count": 22,
     "metadata": {},
     "output_type": "execute_result"
    }
   ],
   "source": [
    "df[\"Fare\"].describe()"
   ]
  },
  {
   "cell_type": "code",
   "execution_count": 23,
   "id": "ade64912-da3e-4ff3-a402-6ab8298f8ad6",
   "metadata": {},
   "outputs": [
    {
     "data": {
      "text/plain": [
       "<Axes: ylabel='Frequency'>"
      ]
     },
     "execution_count": 23,
     "metadata": {},
     "output_type": "execute_result"
    },
    {
     "data": {
      "image/png": "[encoded data removed]",
      "text/plain": [
       "<Figure size 640x480 with 1 Axes>"
      ]
     },
     "metadata": {},
     "output_type": "display_data"
    }
   ],
   "source": [
    "df[\"Fare\"].plot(kind = \"hist\" , bins = 20)"
   ]
  },
  {
   "cell_type": "code",
   "execution_count": 24,
   "id": "9bfe87b0-21cc-470f-9dfd-b1ad28f095d0",
   "metadata": {},
   "outputs": [
    {
     "data": {
      "text/plain": [
       "<Axes: ylabel='Density'>"
      ]
     },
     "execution_count": 24,
     "metadata": {},
     "output_type": "execute_result"
    },
    {
     "data": {
      "image/png": "[encoded data removed]",
      "text/plain": [
       "<Figure size 640x480 with 1 Axes>"
      ]
     },
     "metadata": {},
     "output_type": "display_data"
    }
   ],
   "source": [
    "df[\"Fare\"].plot(kind = \"kde\")"
   ]
  },
  {
   "cell_type": "code",
   "execution_count": 25,
   "id": "4db384a5-9a59-4d91-a6be-2cf19659a839",
   "metadata": {},
   "outputs": [
    {
     "data": {
      "text/plain": [
       "4.367709134122922"
      ]
     },
     "execution_count": 25,
     "metadata": {},
     "output_type": "execute_result"
    }
   ],
   "source": [
    "df[\"Fare\"].skew() # this is highly positiveky skew "
   ]
  },
  {
   "cell_type": "code",
   "execution_count": 26,
   "id": "54a7341d-2eb1-415b-82f6-5e4356629ca3",
   "metadata": {},
   "outputs": [
    {
     "data": {
      "text/plain": [
       "<Axes: >"
      ]
     },
     "execution_count": 26,
     "metadata": {},
     "output_type": "execute_result"
    },
    {
     "data": {
      "image/png": "[encoded data removed]",
      "text/plain": [
       "<Figure size 640x480 with 1 Axes>"
      ]
     },
     "metadata": {},
     "output_type": "display_data"
    }
   ],
   "source": [
    "df[\"Fare\"].plot(kind = \"box\")"
   ]
  },
  {
   "cell_type": "code",
   "execution_count": 27,
   "id": "2e179c2f-fd72-48be-8a23-95c38a1d6482",
   "metadata": {},
   "outputs": [
    {
     "data": {
      "text/html": [
       "<div>\n",
       "<style scoped>\n",
       "    .dataframe tbody tr th:only-of-type {\n",
       "        vertical-align: middle;\n",
       "    }\n",
       "\n",
       "    .dataframe tbody tr th {\n",
       "        vertical-align: top;\n",
       "    }\n",
       "\n",
       "    .dataframe thead th {\n",
       "        text-align: right;\n",
       "    }\n",
       "</style>\n",
       "<table border=\"1\" class=\"dataframe\">\n",
       "  <thead>\n",
       "    <tr style=\"text-align: right;\">\n",
       "      <th></th>\n",
       "      <th>Survived</th>\n",
       "      <th>Pclass</th>\n",
       "      <th>Name</th>\n",
       "      <th>Sex</th>\n",
       "      <th>Age</th>\n",
       "      <th>SibSp</th>\n",
       "      <th>Parch</th>\n",
       "      <th>Ticket</th>\n",
       "      <th>Fare</th>\n",
       "      <th>Cabin</th>\n",
       "      <th>Embarked</th>\n",
       "    </tr>\n",
       "  </thead>\n",
       "  <tbody>\n",
       "    <tr>\n",
       "      <th>27</th>\n",
       "      <td>0.0</td>\n",
       "      <td>1</td>\n",
       "      <td>Fortune, Mr. Charles Alexander</td>\n",
       "      <td>male</td>\n",
       "      <td>19.0</td>\n",
       "      <td>3</td>\n",
       "      <td>2</td>\n",
       "      <td>19950</td>\n",
       "      <td>263.0000</td>\n",
       "      <td>C23 C25 C27</td>\n",
       "      <td>S</td>\n",
       "    </tr>\n",
       "    <tr>\n",
       "      <th>88</th>\n",
       "      <td>1.0</td>\n",
       "      <td>1</td>\n",
       "      <td>Fortune, Miss. Mabel Helen</td>\n",
       "      <td>female</td>\n",
       "      <td>23.0</td>\n",
       "      <td>3</td>\n",
       "      <td>2</td>\n",
       "      <td>19950</td>\n",
       "      <td>263.0000</td>\n",
       "      <td>C23 C25 C27</td>\n",
       "      <td>S</td>\n",
       "    </tr>\n",
       "    <tr>\n",
       "      <th>118</th>\n",
       "      <td>0.0</td>\n",
       "      <td>1</td>\n",
       "      <td>Baxter, Mr. Quigg Edmond</td>\n",
       "      <td>male</td>\n",
       "      <td>24.0</td>\n",
       "      <td>0</td>\n",
       "      <td>1</td>\n",
       "      <td>PC 17558</td>\n",
       "      <td>247.5208</td>\n",
       "      <td>B58 B60</td>\n",
       "      <td>C</td>\n",
       "    </tr>\n",
       "    <tr>\n",
       "      <th>258</th>\n",
       "      <td>1.0</td>\n",
       "      <td>1</td>\n",
       "      <td>Ward, Miss. Anna</td>\n",
       "      <td>female</td>\n",
       "      <td>35.0</td>\n",
       "      <td>0</td>\n",
       "      <td>0</td>\n",
       "      <td>PC 17755</td>\n",
       "      <td>512.3292</td>\n",
       "      <td>NaN</td>\n",
       "      <td>C</td>\n",
       "    </tr>\n",
       "    <tr>\n",
       "      <th>299</th>\n",
       "      <td>1.0</td>\n",
       "      <td>1</td>\n",
       "      <td>Baxter, Mrs. James (Helene DeLaudeniere Chaput)</td>\n",
       "      <td>female</td>\n",
       "      <td>50.0</td>\n",
       "      <td>0</td>\n",
       "      <td>1</td>\n",
       "      <td>PC 17558</td>\n",
       "      <td>247.5208</td>\n",
       "      <td>B58 B60</td>\n",
       "      <td>C</td>\n",
       "    </tr>\n",
       "    <tr>\n",
       "      <th>311</th>\n",
       "      <td>1.0</td>\n",
       "      <td>1</td>\n",
       "      <td>Ryerson, Miss. Emily Borie</td>\n",
       "      <td>female</td>\n",
       "      <td>18.0</td>\n",
       "      <td>2</td>\n",
       "      <td>2</td>\n",
       "      <td>PC 17608</td>\n",
       "      <td>262.3750</td>\n",
       "      <td>B57 B59 B63 B66</td>\n",
       "      <td>C</td>\n",
       "    </tr>\n",
       "    <tr>\n",
       "      <th>341</th>\n",
       "      <td>1.0</td>\n",
       "      <td>1</td>\n",
       "      <td>Fortune, Miss. Alice Elizabeth</td>\n",
       "      <td>female</td>\n",
       "      <td>24.0</td>\n",
       "      <td>3</td>\n",
       "      <td>2</td>\n",
       "      <td>19950</td>\n",
       "      <td>263.0000</td>\n",
       "      <td>C23 C25 C27</td>\n",
       "      <td>S</td>\n",
       "    </tr>\n",
       "    <tr>\n",
       "      <th>377</th>\n",
       "      <td>0.0</td>\n",
       "      <td>1</td>\n",
       "      <td>Widener, Mr. Harry Elkins</td>\n",
       "      <td>male</td>\n",
       "      <td>27.0</td>\n",
       "      <td>0</td>\n",
       "      <td>2</td>\n",
       "      <td>113503</td>\n",
       "      <td>211.5000</td>\n",
       "      <td>C82</td>\n",
       "      <td>C</td>\n",
       "    </tr>\n",
       "    <tr>\n",
       "      <th>380</th>\n",
       "      <td>1.0</td>\n",
       "      <td>1</td>\n",
       "      <td>Bidois, Miss. Rosalie</td>\n",
       "      <td>female</td>\n",
       "      <td>42.0</td>\n",
       "      <td>0</td>\n",
       "      <td>0</td>\n",
       "      <td>PC 17757</td>\n",
       "      <td>227.5250</td>\n",
       "      <td>NaN</td>\n",
       "      <td>C</td>\n",
       "    </tr>\n",
       "    <tr>\n",
       "      <th>438</th>\n",
       "      <td>0.0</td>\n",
       "      <td>1</td>\n",
       "      <td>Fortune, Mr. Mark</td>\n",
       "      <td>male</td>\n",
       "      <td>64.0</td>\n",
       "      <td>1</td>\n",
       "      <td>4</td>\n",
       "      <td>19950</td>\n",
       "      <td>263.0000</td>\n",
       "      <td>C23 C25 C27</td>\n",
       "      <td>S</td>\n",
       "    </tr>\n",
       "    <tr>\n",
       "      <th>527</th>\n",
       "      <td>0.0</td>\n",
       "      <td>1</td>\n",
       "      <td>Farthing, Mr. John</td>\n",
       "      <td>male</td>\n",
       "      <td>NaN</td>\n",
       "      <td>0</td>\n",
       "      <td>0</td>\n",
       "      <td>PC 17483</td>\n",
       "      <td>221.7792</td>\n",
       "      <td>C95</td>\n",
       "      <td>S</td>\n",
       "    </tr>\n",
       "    <tr>\n",
       "      <th>557</th>\n",
       "      <td>0.0</td>\n",
       "      <td>1</td>\n",
       "      <td>Robbins, Mr. Victor</td>\n",
       "      <td>male</td>\n",
       "      <td>NaN</td>\n",
       "      <td>0</td>\n",
       "      <td>0</td>\n",
       "      <td>PC 17757</td>\n",
       "      <td>227.5250</td>\n",
       "      <td>NaN</td>\n",
       "      <td>C</td>\n",
       "    </tr>\n",
       "    <tr>\n",
       "      <th>679</th>\n",
       "      <td>1.0</td>\n",
       "      <td>1</td>\n",
       "      <td>Cardeza, Mr. Thomas Drake Martinez</td>\n",
       "      <td>male</td>\n",
       "      <td>36.0</td>\n",
       "      <td>0</td>\n",
       "      <td>1</td>\n",
       "      <td>PC 17755</td>\n",
       "      <td>512.3292</td>\n",
       "      <td>B51 B53 B55</td>\n",
       "      <td>C</td>\n",
       "    </tr>\n",
       "    <tr>\n",
       "      <th>689</th>\n",
       "      <td>1.0</td>\n",
       "      <td>1</td>\n",
       "      <td>Madill, Miss. Georgette Alexandra</td>\n",
       "      <td>female</td>\n",
       "      <td>15.0</td>\n",
       "      <td>0</td>\n",
       "      <td>1</td>\n",
       "      <td>24160</td>\n",
       "      <td>211.3375</td>\n",
       "      <td>B5</td>\n",
       "      <td>S</td>\n",
       "    </tr>\n",
       "    <tr>\n",
       "      <th>700</th>\n",
       "      <td>1.0</td>\n",
       "      <td>1</td>\n",
       "      <td>Astor, Mrs. John Jacob (Madeleine Talmadge Force)</td>\n",
       "      <td>female</td>\n",
       "      <td>18.0</td>\n",
       "      <td>1</td>\n",
       "      <td>0</td>\n",
       "      <td>PC 17757</td>\n",
       "      <td>227.5250</td>\n",
       "      <td>C62 C64</td>\n",
       "      <td>C</td>\n",
       "    </tr>\n",
       "    <tr>\n",
       "      <th>716</th>\n",
       "      <td>1.0</td>\n",
       "      <td>1</td>\n",
       "      <td>Endres, Miss. Caroline Louise</td>\n",
       "      <td>female</td>\n",
       "      <td>38.0</td>\n",
       "      <td>0</td>\n",
       "      <td>0</td>\n",
       "      <td>PC 17757</td>\n",
       "      <td>227.5250</td>\n",
       "      <td>C45</td>\n",
       "      <td>C</td>\n",
       "    </tr>\n",
       "    <tr>\n",
       "      <th>730</th>\n",
       "      <td>1.0</td>\n",
       "      <td>1</td>\n",
       "      <td>Allen, Miss. Elisabeth Walton</td>\n",
       "      <td>female</td>\n",
       "      <td>29.0</td>\n",
       "      <td>0</td>\n",
       "      <td>0</td>\n",
       "      <td>24160</td>\n",
       "      <td>211.3375</td>\n",
       "      <td>B5</td>\n",
       "      <td>S</td>\n",
       "    </tr>\n",
       "    <tr>\n",
       "      <th>737</th>\n",
       "      <td>1.0</td>\n",
       "      <td>1</td>\n",
       "      <td>Lesurer, Mr. Gustave J</td>\n",
       "      <td>male</td>\n",
       "      <td>35.0</td>\n",
       "      <td>0</td>\n",
       "      <td>0</td>\n",
       "      <td>PC 17755</td>\n",
       "      <td>512.3292</td>\n",
       "      <td>B101</td>\n",
       "      <td>C</td>\n",
       "    </tr>\n",
       "    <tr>\n",
       "      <th>742</th>\n",
       "      <td>1.0</td>\n",
       "      <td>1</td>\n",
       "      <td>Ryerson, Miss. Susan Parker \"Suzette\"</td>\n",
       "      <td>female</td>\n",
       "      <td>21.0</td>\n",
       "      <td>2</td>\n",
       "      <td>2</td>\n",
       "      <td>PC 17608</td>\n",
       "      <td>262.3750</td>\n",
       "      <td>B57 B59 B63 B66</td>\n",
       "      <td>C</td>\n",
       "    </tr>\n",
       "    <tr>\n",
       "      <th>779</th>\n",
       "      <td>1.0</td>\n",
       "      <td>1</td>\n",
       "      <td>Robert, Mrs. Edward Scott (Elisabeth Walton Mc...</td>\n",
       "      <td>female</td>\n",
       "      <td>43.0</td>\n",
       "      <td>0</td>\n",
       "      <td>1</td>\n",
       "      <td>24160</td>\n",
       "      <td>211.3375</td>\n",
       "      <td>B3</td>\n",
       "      <td>S</td>\n",
       "    </tr>\n",
       "    <tr>\n",
       "      <th>915</th>\n",
       "      <td>NaN</td>\n",
       "      <td>1</td>\n",
       "      <td>Ryerson, Mrs. Arthur Larned (Emily Maria Borie)</td>\n",
       "      <td>female</td>\n",
       "      <td>48.0</td>\n",
       "      <td>1</td>\n",
       "      <td>3</td>\n",
       "      <td>PC 17608</td>\n",
       "      <td>262.3750</td>\n",
       "      <td>B57 B59 B63 B66</td>\n",
       "      <td>C</td>\n",
       "    </tr>\n",
       "    <tr>\n",
       "      <th>944</th>\n",
       "      <td>NaN</td>\n",
       "      <td>1</td>\n",
       "      <td>Fortune, Miss. Ethel Flora</td>\n",
       "      <td>female</td>\n",
       "      <td>28.0</td>\n",
       "      <td>3</td>\n",
       "      <td>2</td>\n",
       "      <td>19950</td>\n",
       "      <td>263.0000</td>\n",
       "      <td>C23 C25 C27</td>\n",
       "      <td>S</td>\n",
       "    </tr>\n",
       "    <tr>\n",
       "      <th>950</th>\n",
       "      <td>NaN</td>\n",
       "      <td>1</td>\n",
       "      <td>Chaudanson, Miss. Victorine</td>\n",
       "      <td>female</td>\n",
       "      <td>36.0</td>\n",
       "      <td>0</td>\n",
       "      <td>0</td>\n",
       "      <td>PC 17608</td>\n",
       "      <td>262.3750</td>\n",
       "      <td>B61</td>\n",
       "      <td>C</td>\n",
       "    </tr>\n",
       "    <tr>\n",
       "      <th>955</th>\n",
       "      <td>NaN</td>\n",
       "      <td>1</td>\n",
       "      <td>Ryerson, Master. John Borie</td>\n",
       "      <td>male</td>\n",
       "      <td>13.0</td>\n",
       "      <td>2</td>\n",
       "      <td>2</td>\n",
       "      <td>PC 17608</td>\n",
       "      <td>262.3750</td>\n",
       "      <td>B57 B59 B63 B66</td>\n",
       "      <td>C</td>\n",
       "    </tr>\n",
       "    <tr>\n",
       "      <th>960</th>\n",
       "      <td>NaN</td>\n",
       "      <td>1</td>\n",
       "      <td>Fortune, Mrs. Mark (Mary McDougald)</td>\n",
       "      <td>female</td>\n",
       "      <td>60.0</td>\n",
       "      <td>1</td>\n",
       "      <td>4</td>\n",
       "      <td>19950</td>\n",
       "      <td>263.0000</td>\n",
       "      <td>C23 C25 C27</td>\n",
       "      <td>S</td>\n",
       "    </tr>\n",
       "    <tr>\n",
       "      <th>965</th>\n",
       "      <td>NaN</td>\n",
       "      <td>1</td>\n",
       "      <td>Geiger, Miss. Amalie</td>\n",
       "      <td>female</td>\n",
       "      <td>35.0</td>\n",
       "      <td>0</td>\n",
       "      <td>0</td>\n",
       "      <td>113503</td>\n",
       "      <td>211.5000</td>\n",
       "      <td>C130</td>\n",
       "      <td>C</td>\n",
       "    </tr>\n",
       "    <tr>\n",
       "      <th>966</th>\n",
       "      <td>NaN</td>\n",
       "      <td>1</td>\n",
       "      <td>Keeping, Mr. Edwin</td>\n",
       "      <td>male</td>\n",
       "      <td>32.5</td>\n",
       "      <td>0</td>\n",
       "      <td>0</td>\n",
       "      <td>113503</td>\n",
       "      <td>211.5000</td>\n",
       "      <td>C132</td>\n",
       "      <td>C</td>\n",
       "    </tr>\n",
       "    <tr>\n",
       "      <th>972</th>\n",
       "      <td>NaN</td>\n",
       "      <td>1</td>\n",
       "      <td>Straus, Mr. Isidor</td>\n",
       "      <td>male</td>\n",
       "      <td>67.0</td>\n",
       "      <td>1</td>\n",
       "      <td>0</td>\n",
       "      <td>PC 17483</td>\n",
       "      <td>221.7792</td>\n",
       "      <td>C55 C57</td>\n",
       "      <td>S</td>\n",
       "    </tr>\n",
       "    <tr>\n",
       "      <th>1005</th>\n",
       "      <td>NaN</td>\n",
       "      <td>1</td>\n",
       "      <td>Straus, Mrs. Isidor (Rosalie Ida Blun)</td>\n",
       "      <td>female</td>\n",
       "      <td>63.0</td>\n",
       "      <td>1</td>\n",
       "      <td>0</td>\n",
       "      <td>PC 17483</td>\n",
       "      <td>221.7792</td>\n",
       "      <td>C55 C57</td>\n",
       "      <td>S</td>\n",
       "    </tr>\n",
       "    <tr>\n",
       "      <th>1033</th>\n",
       "      <td>NaN</td>\n",
       "      <td>1</td>\n",
       "      <td>Ryerson, Mr. Arthur Larned</td>\n",
       "      <td>male</td>\n",
       "      <td>61.0</td>\n",
       "      <td>1</td>\n",
       "      <td>3</td>\n",
       "      <td>PC 17608</td>\n",
       "      <td>262.3750</td>\n",
       "      <td>B57 B59 B63 B66</td>\n",
       "      <td>C</td>\n",
       "    </tr>\n",
       "    <tr>\n",
       "      <th>1047</th>\n",
       "      <td>NaN</td>\n",
       "      <td>1</td>\n",
       "      <td>Bird, Miss. Ellen</td>\n",
       "      <td>female</td>\n",
       "      <td>29.0</td>\n",
       "      <td>0</td>\n",
       "      <td>0</td>\n",
       "      <td>PC 17483</td>\n",
       "      <td>221.7792</td>\n",
       "      <td>C97</td>\n",
       "      <td>S</td>\n",
       "    </tr>\n",
       "    <tr>\n",
       "      <th>1075</th>\n",
       "      <td>NaN</td>\n",
       "      <td>1</td>\n",
       "      <td>Douglas, Mrs. Frederick Charles (Mary Helene B...</td>\n",
       "      <td>female</td>\n",
       "      <td>27.0</td>\n",
       "      <td>1</td>\n",
       "      <td>1</td>\n",
       "      <td>PC 17558</td>\n",
       "      <td>247.5208</td>\n",
       "      <td>B58 B60</td>\n",
       "      <td>C</td>\n",
       "    </tr>\n",
       "    <tr>\n",
       "      <th>1093</th>\n",
       "      <td>NaN</td>\n",
       "      <td>1</td>\n",
       "      <td>Astor, Col. John Jacob</td>\n",
       "      <td>male</td>\n",
       "      <td>47.0</td>\n",
       "      <td>1</td>\n",
       "      <td>0</td>\n",
       "      <td>PC 17757</td>\n",
       "      <td>227.5250</td>\n",
       "      <td>C62 C64</td>\n",
       "      <td>C</td>\n",
       "    </tr>\n",
       "    <tr>\n",
       "      <th>1109</th>\n",
       "      <td>NaN</td>\n",
       "      <td>1</td>\n",
       "      <td>Widener, Mrs. George Dunton (Eleanor Elkins)</td>\n",
       "      <td>female</td>\n",
       "      <td>50.0</td>\n",
       "      <td>1</td>\n",
       "      <td>1</td>\n",
       "      <td>113503</td>\n",
       "      <td>211.5000</td>\n",
       "      <td>C80</td>\n",
       "      <td>C</td>\n",
       "    </tr>\n",
       "    <tr>\n",
       "      <th>1215</th>\n",
       "      <td>NaN</td>\n",
       "      <td>1</td>\n",
       "      <td>Kreuchen, Miss. Emilie</td>\n",
       "      <td>female</td>\n",
       "      <td>39.0</td>\n",
       "      <td>0</td>\n",
       "      <td>0</td>\n",
       "      <td>24160</td>\n",
       "      <td>211.3375</td>\n",
       "      <td>NaN</td>\n",
       "      <td>S</td>\n",
       "    </tr>\n",
       "    <tr>\n",
       "      <th>1234</th>\n",
       "      <td>NaN</td>\n",
       "      <td>1</td>\n",
       "      <td>Cardeza, Mrs. James Warburton Martinez (Charlo...</td>\n",
       "      <td>female</td>\n",
       "      <td>58.0</td>\n",
       "      <td>0</td>\n",
       "      <td>1</td>\n",
       "      <td>PC 17755</td>\n",
       "      <td>512.3292</td>\n",
       "      <td>B51 B53 B55</td>\n",
       "      <td>C</td>\n",
       "    </tr>\n",
       "    <tr>\n",
       "      <th>1266</th>\n",
       "      <td>NaN</td>\n",
       "      <td>1</td>\n",
       "      <td>Bowen, Miss. Grace Scott</td>\n",
       "      <td>female</td>\n",
       "      <td>45.0</td>\n",
       "      <td>0</td>\n",
       "      <td>0</td>\n",
       "      <td>PC 17608</td>\n",
       "      <td>262.3750</td>\n",
       "      <td>NaN</td>\n",
       "      <td>C</td>\n",
       "    </tr>\n",
       "    <tr>\n",
       "      <th>1298</th>\n",
       "      <td>NaN</td>\n",
       "      <td>1</td>\n",
       "      <td>Widener, Mr. George Dunton</td>\n",
       "      <td>male</td>\n",
       "      <td>50.0</td>\n",
       "      <td>1</td>\n",
       "      <td>1</td>\n",
       "      <td>113503</td>\n",
       "      <td>211.5000</td>\n",
       "      <td>C80</td>\n",
       "      <td>C</td>\n",
       "    </tr>\n",
       "  </tbody>\n",
       "</table>\n",
       "</div>"
      ],
      "text/plain": [
       "     Survived Pclass                                               Name  \\\n",
       "27        0.0      1                     Fortune, Mr. Charles Alexander   \n",
       "88        1.0      1                         Fortune, Miss. Mabel Helen   \n",
       "118       0.0      1                           Baxter, Mr. Quigg Edmond   \n",
       "258       1.0      1                                   Ward, Miss. Anna   \n",
       "299       1.0      1    Baxter, Mrs. James (Helene DeLaudeniere Chaput)   \n",
       "311       1.0      1                         Ryerson, Miss. Emily Borie   \n",
       "341       1.0      1                     Fortune, Miss. Alice Elizabeth   \n",
       "377       0.0      1                          Widener, Mr. Harry Elkins   \n",
       "380       1.0      1                              Bidois, Miss. Rosalie   \n",
       "438       0.0      1                                  Fortune, Mr. Mark   \n",
       "527       0.0      1                                 Farthing, Mr. John   \n",
       "557       0.0      1                                Robbins, Mr. Victor   \n",
       "679       1.0      1                 Cardeza, Mr. Thomas Drake Martinez   \n",
       "689       1.0      1                  Madill, Miss. Georgette Alexandra   \n",
       "700       1.0      1  Astor, Mrs. John Jacob (Madeleine Talmadge Force)   \n",
       "716       1.0      1                      Endres, Miss. Caroline Louise   \n",
       "730       1.0      1                      Allen, Miss. Elisabeth Walton   \n",
       "737       1.0      1                             Lesurer, Mr. Gustave J   \n",
       "742       1.0      1              Ryerson, Miss. Susan Parker \"Suzette\"   \n",
       "779       1.0      1  Robert, Mrs. Edward Scott (Elisabeth Walton Mc...   \n",
       "915       NaN      1    Ryerson, Mrs. Arthur Larned (Emily Maria Borie)   \n",
       "944       NaN      1                         Fortune, Miss. Ethel Flora   \n",
       "950       NaN      1                        Chaudanson, Miss. Victorine   \n",
       "955       NaN      1                        Ryerson, Master. John Borie   \n",
       "960       NaN      1                Fortune, Mrs. Mark (Mary McDougald)   \n",
       "965       NaN      1                               Geiger, Miss. Amalie   \n",
       "966       NaN      1                                 Keeping, Mr. Edwin   \n",
       "972       NaN      1                                 Straus, Mr. Isidor   \n",
       "1005      NaN      1             Straus, Mrs. Isidor (Rosalie Ida Blun)   \n",
       "1033      NaN      1                         Ryerson, Mr. Arthur Larned   \n",
       "1047      NaN      1                                  Bird, Miss. Ellen   \n",
       "1075      NaN      1  Douglas, Mrs. Frederick Charles (Mary Helene B...   \n",
       "1093      NaN      1                             Astor, Col. John Jacob   \n",
       "1109      NaN      1       Widener, Mrs. George Dunton (Eleanor Elkins)   \n",
       "1215      NaN      1                             Kreuchen, Miss. Emilie   \n",
       "1234      NaN      1  Cardeza, Mrs. James Warburton Martinez (Charlo...   \n",
       "1266      NaN      1                           Bowen, Miss. Grace Scott   \n",
       "1298      NaN      1                         Widener, Mr. George Dunton   \n",
       "\n",
       "         Sex   Age  SibSp  Parch    Ticket      Fare            Cabin Embarked  \n",
       "27      male  19.0      3      2     19950  263.0000      C23 C25 C27        S  \n",
       "88    female  23.0      3      2     19950  263.0000      C23 C25 C27        S  \n",
       "118     male  24.0      0      1  PC 17558  247.5208          B58 B60        C  \n",
       "258   female  35.0      0      0  PC 17755  512.3292              NaN        C  \n",
       "299   female  50.0      0      1  PC 17558  247.5208          B58 B60        C  \n",
       "311   female  18.0      2      2  PC 17608  262.3750  B57 B59 B63 B66        C  \n",
       "341   female  24.0      3      2     19950  263.0000      C23 C25 C27        S  \n",
       "377     male  27.0      0      2    113503  211.5000              C82        C  \n",
       "380   female  42.0      0      0  PC 17757  227.5250              NaN        C  \n",
       "438     male  64.0      1      4     19950  263.0000      C23 C25 C27        S  \n",
       "527     male   NaN      0      0  PC 17483  221.7792              C95        S  \n",
       "557     male   NaN      0      0  PC 17757  227.5250              NaN        C  \n",
       "679     male  36.0      0      1  PC 17755  512.3292      B51 B53 B55        C  \n",
       "689   female  15.0      0      1     24160  211.3375               B5        S  \n",
       "700   female  18.0      1      0  PC 17757  227.5250          C62 C64        C  \n",
       "716   female  38.0      0      0  PC 17757  227.5250              C45        C  \n",
       "730   female  29.0      0      0     24160  211.3375               B5        S  \n",
       "737     male  35.0      0      0  PC 17755  512.3292             B101        C  \n",
       "742   female  21.0      2      2  PC 17608  262.3750  B57 B59 B63 B66        C  \n",
       "779   female  43.0      0      1     24160  211.3375               B3        S  \n",
       "915   female  48.0      1      3  PC 17608  262.3750  B57 B59 B63 B66        C  \n",
       "944   female  28.0      3      2     19950  263.0000      C23 C25 C27        S  \n",
       "950   female  36.0      0      0  PC 17608  262.3750              B61        C  \n",
       "955     male  13.0      2      2  PC 17608  262.3750  B57 B59 B63 B66        C  \n",
       "960   female  60.0      1      4     19950  263.0000      C23 C25 C27        S  \n",
       "965   female  35.0      0      0    113503  211.5000             C130        C  \n",
       "966     male  32.5      0      0    113503  211.5000             C132        C  \n",
       "972     male  67.0      1      0  PC 17483  221.7792          C55 C57        S  \n",
       "1005  female  63.0      1      0  PC 17483  221.7792          C55 C57        S  \n",
       "1033    male  61.0      1      3  PC 17608  262.3750  B57 B59 B63 B66        C  \n",
       "1047  female  29.0      0      0  PC 17483  221.7792              C97        S  \n",
       "1075  female  27.0      1      1  PC 17558  247.5208          B58 B60        C  \n",
       "1093    male  47.0      1      0  PC 17757  227.5250          C62 C64        C  \n",
       "1109  female  50.0      1      1    113503  211.5000              C80        C  \n",
       "1215  female  39.0      0      0     24160  211.3375              NaN        S  \n",
       "1234  female  58.0      0      1  PC 17755  512.3292      B51 B53 B55        C  \n",
       "1266  female  45.0      0      0  PC 17608  262.3750              NaN        C  \n",
       "1298    male  50.0      1      1    113503  211.5000              C80        C  "
      ]
     },
     "execution_count": 27,
     "metadata": {},
     "output_type": "execute_result"
    }
   ],
   "source": [
    "df[df[\"Fare\"]>200]\n",
    "# in this few peoples are having the same ticket \n",
    "# i believe they will be travelling with the family \n",
    "# i need to extract indivitual fare of all the family members \n",
    "# for the same i need to make feature engineering on the fare col and need to make indivitual fare col"
   ]
  },
  {
   "cell_type": "code",
   "execution_count": 28,
   "id": "958c233a-7906-412c-9505-ee9bc165d8a3",
   "metadata": {},
   "outputs": [
    {
     "data": {
      "text/html": [
       "<div>\n",
       "<style scoped>\n",
       "    .dataframe tbody tr th:only-of-type {\n",
       "        vertical-align: middle;\n",
       "    }\n",
       "\n",
       "    .dataframe tbody tr th {\n",
       "        vertical-align: top;\n",
       "    }\n",
       "\n",
       "    .dataframe thead th {\n",
       "        text-align: right;\n",
       "    }\n",
       "</style>\n",
       "<table border=\"1\" class=\"dataframe\">\n",
       "  <thead>\n",
       "    <tr style=\"text-align: right;\">\n",
       "      <th></th>\n",
       "      <th>Survived</th>\n",
       "      <th>Pclass</th>\n",
       "      <th>Name</th>\n",
       "      <th>Sex</th>\n",
       "      <th>Age</th>\n",
       "      <th>SibSp</th>\n",
       "      <th>Parch</th>\n",
       "      <th>Ticket</th>\n",
       "      <th>Fare</th>\n",
       "      <th>Cabin</th>\n",
       "      <th>Embarked</th>\n",
       "    </tr>\n",
       "  </thead>\n",
       "  <tbody>\n",
       "    <tr>\n",
       "      <th>1043</th>\n",
       "      <td>NaN</td>\n",
       "      <td>3</td>\n",
       "      <td>Storey, Mr. Thomas</td>\n",
       "      <td>male</td>\n",
       "      <td>60.5</td>\n",
       "      <td>0</td>\n",
       "      <td>0</td>\n",
       "      <td>3701</td>\n",
       "      <td>NaN</td>\n",
       "      <td>NaN</td>\n",
       "      <td>S</td>\n",
       "    </tr>\n",
       "  </tbody>\n",
       "</table>\n",
       "</div>"
      ],
      "text/plain": [
       "     Survived Pclass                Name   Sex   Age  SibSp  Parch Ticket  \\\n",
       "1043      NaN      3  Storey, Mr. Thomas  male  60.5      0      0   3701   \n",
       "\n",
       "      Fare Cabin Embarked  \n",
       "1043   NaN   NaN        S  "
      ]
     },
     "execution_count": 28,
     "metadata": {},
     "output_type": "execute_result"
    }
   ],
   "source": [
    "df[df[\"Fare\"].isnull()] # there is one missing value in Fare col"
   ]
  },
  {
   "cell_type": "markdown",
   "id": "4e941177-3d38-48ae-b23a-78007e81128f",
   "metadata": {},
   "source": [
    "### Fare\n",
    "\n",
    "**conclusions :-** \n",
    "\n",
    "- Age is high positively distributed\n",
    "- there is 1 missing value\n",
    "- There are some outliers\n",
    "- in this few peoples are having the same ticket \n",
    "- i believe they will be travelling with the family \n",
    "- i need to extract indivitual fare of all the family members \n",
    "- for the same i need to make feature engineering on the fare col and need to make indivitual fare col"
   ]
  },
  {
   "cell_type": "markdown",
   "id": "7f5ca853-b400-42a8-a3ad-518c0c6f5b0d",
   "metadata": {},
   "source": [
    "# Univariate analysis(On Categorical col) :-"
   ]
  },
  {
   "cell_type": "markdown",
   "id": "be50d5e0-3da6-4a0e-8f84-b50ae5d20cf5",
   "metadata": {},
   "source": [
    "### Categorical :- \n",
    "- Survived\n",
    "- Pclass\n",
    "- Sex \n",
    "- SibSp\n",
    "- Parch\n",
    "- Embarked"
   ]
  },
  {
   "cell_type": "code",
   "execution_count": 29,
   "id": "4765e227-0dea-466e-85f8-d9c679ea5e07",
   "metadata": {},
   "outputs": [
    {
     "data": {
      "text/plain": [
       "0.0    549\n",
       "1.0    342\n",
       "Name: Survived, dtype: int64"
      ]
     },
     "execution_count": 29,
     "metadata": {},
     "output_type": "execute_result"
    }
   ],
   "source": [
    "df[\"Survived\"].value_counts()\n",
    "# 0 ----> dead\n",
    "# 1-----> Live person"
   ]
  },
  {
   "cell_type": "code",
   "execution_count": 30,
   "id": "223cdb67-d191-40c1-9faf-22d7f5869ec3",
   "metadata": {},
   "outputs": [
    {
     "data": {
      "text/plain": [
       "<Axes: ylabel='Survived'>"
      ]
     },
     "execution_count": 30,
     "metadata": {},
     "output_type": "execute_result"
    },
    {
     "data": {
      "image/png": "[encoded data removed]",
      "text/plain": [
       "<Figure size 640x480 with 1 Axes>"
      ]
     },
     "metadata": {},
     "output_type": "display_data"
    }
   ],
   "source": [
    "df[\"Survived\"].value_counts().plot(kind = \"pie\" , autopct = \"%0.2f%%\")\n",
    "# 62% (549) are dead\n",
    "# 38% (342) are live "
   ]
  },
  {
   "cell_type": "code",
   "execution_count": 31,
   "id": "a93d2aec-dda3-44b3-8380-a9f28d7e0e1d",
   "metadata": {},
   "outputs": [
    {
     "data": {
      "text/plain": [
       "<Axes: >"
      ]
     },
     "execution_count": 31,
     "metadata": {},
     "output_type": "execute_result"
    },
    {
     "data": {
      "image/png": "[encoded data removed]",
      "text/plain": [
       "<Figure size 640x480 with 1 Axes>"
      ]
     },
     "metadata": {},
     "output_type": "display_data"
    }
   ],
   "source": [
    "df[\"Survived\"].value_counts().plot(kind = \"bar\")"
   ]
  },
  {
   "cell_type": "code",
   "execution_count": 32,
   "id": "fe5e6371-7a94-447d-bbeb-1f5087a58408",
   "metadata": {},
   "outputs": [
    {
     "data": {
      "text/plain": [
       "418"
      ]
     },
     "execution_count": 32,
     "metadata": {},
     "output_type": "execute_result"
    }
   ],
   "source": [
    "df[\"Survived\"].isnull().sum() \n",
    "# there are 418 missing values "
   ]
  },
  {
   "cell_type": "code",
   "execution_count": 33,
   "id": "5b01be70-222d-4add-a931-908e8aeb46eb",
   "metadata": {},
   "outputs": [
    {
     "data": {
      "text/plain": [
       "31.932773109243694"
      ]
     },
     "execution_count": 33,
     "metadata": {},
     "output_type": "execute_result"
    }
   ],
   "source": [
    "(418 /df.shape[0])*100"
   ]
  },
  {
   "cell_type": "markdown",
   "id": "7a5be84f-9dfb-4f0b-ab2b-1f73b5e6be16",
   "metadata": {},
   "source": [
    "### Survived :- \n",
    "**Conclusions :-**\n",
    "- 62% (549) are dead\n",
    "- 38% (342) are live\n",
    "- there are 418 missing values (32% missing values )\n",
    "- "
   ]
  },
  {
   "cell_type": "markdown",
   "id": "a4a4a29f-444d-43c5-b1e5-6bb8ba48ae60",
   "metadata": {},
   "source": [
    "### Pclass col"
   ]
  },
  {
   "cell_type": "code",
   "execution_count": 34,
   "id": "8998f661-b99b-410d-a3f8-b783e54afb54",
   "metadata": {},
   "outputs": [
    {
     "data": {
      "text/plain": [
       "3    709\n",
       "1    323\n",
       "2    277\n",
       "Name: Pclass, dtype: int64"
      ]
     },
     "execution_count": 34,
     "metadata": {},
     "output_type": "execute_result"
    }
   ],
   "source": [
    "df[\"Pclass\"].value_counts()"
   ]
  },
  {
   "cell_type": "code",
   "execution_count": 35,
   "id": "c39a024d-0bb0-48cc-ae7d-9e530b397ae3",
   "metadata": {},
   "outputs": [
    {
     "data": {
      "text/plain": [
       "<Axes: ylabel='Pclass'>"
      ]
     },
     "execution_count": 35,
     "metadata": {},
     "output_type": "execute_result"
    },
    {
     "data": {
      "image/png": "[encoded data removed]",
      "text/plain": [
       "<Figure size 640x480 with 1 Axes>"
      ]
     },
     "metadata": {},
     "output_type": "display_data"
    }
   ],
   "source": [
    "df[\"Pclass\"].value_counts().plot(kind = \"pie\" , autopct = \"%0.2f%%\")\n",
    "# 54% peoples are travelling in Pclass3 "
   ]
  },
  {
   "cell_type": "code",
   "execution_count": 36,
   "id": "4142d49a-517a-4a15-a670-69b447786785",
   "metadata": {},
   "outputs": [
    {
     "data": {
      "text/plain": [
       "<Axes: >"
      ]
     },
     "execution_count": 36,
     "metadata": {},
     "output_type": "execute_result"
    },
    {
     "data": {
      "image/png": "[encoded data removed]",
      "text/plain": [
       "<Figure size 640x480 with 1 Axes>"
      ]
     },
     "metadata": {},
     "output_type": "display_data"
    }
   ],
   "source": [
    "df[\"Pclass\"].value_counts().plot(kind = \"bar\")"
   ]
  },
  {
   "cell_type": "code",
   "execution_count": 37,
   "id": "9dfc6e9d-4893-4924-abc5-c24f24f34b3c",
   "metadata": {},
   "outputs": [
    {
     "data": {
      "text/plain": [
       "0"
      ]
     },
     "execution_count": 37,
     "metadata": {},
     "output_type": "execute_result"
    }
   ],
   "source": [
    "df[\"Pclass\"].isnull().sum() \n",
    "# there is no any missing values \n"
   ]
  },
  {
   "cell_type": "markdown",
   "id": "99bbe296-833b-4e2f-912e-2804408b924d",
   "metadata": {},
   "source": [
    "### Pclass \n",
    "**Conclusion:-**\n",
    "- 54% (709)peoples are travelling in Pclass3 "
   ]
  },
  {
   "cell_type": "markdown",
   "id": "da8f9699-f523-4acb-953d-d72ce6f07597",
   "metadata": {},
   "source": [
    "### Sex col"
   ]
  },
  {
   "cell_type": "code",
   "execution_count": 38,
   "id": "68c97f20-440b-4036-af11-7eb19e4c326b",
   "metadata": {},
   "outputs": [
    {
     "data": {
      "text/plain": [
       "male      843\n",
       "female    466\n",
       "Name: Sex, dtype: int64"
      ]
     },
     "execution_count": 38,
     "metadata": {},
     "output_type": "execute_result"
    }
   ],
   "source": [
    "df[\"Sex\"].value_counts()\n",
    "# there are 843 males and 466 females\n",
    "# count of male is higher than the females"
   ]
  },
  {
   "cell_type": "code",
   "execution_count": 39,
   "id": "71db63c4-2bd5-4fdc-9b27-08b18d80cedb",
   "metadata": {},
   "outputs": [
    {
     "data": {
      "text/plain": [
       "<Axes: ylabel='Sex'>"
      ]
     },
     "execution_count": 39,
     "metadata": {},
     "output_type": "execute_result"
    },
    {
     "data": {
      "image/png": "[encoded data removed]",
      "text/plain": [
       "<Figure size 640x480 with 1 Axes>"
      ]
     },
     "metadata": {},
     "output_type": "display_data"
    }
   ],
   "source": [
    "df[\"Sex\"].value_counts().plot(kind = \"pie\" , autopct = \"%0.2f%%\")"
   ]
  },
  {
   "cell_type": "code",
   "execution_count": 40,
   "id": "29abc6cc-3b53-4adf-aa05-97ae5460fb98",
   "metadata": {},
   "outputs": [
    {
     "data": {
      "text/plain": [
       "<Axes: >"
      ]
     },
     "execution_count": 40,
     "metadata": {},
     "output_type": "execute_result"
    },
    {
     "data": {
      "image/png": "[encoded data removed]",
      "text/plain": [
       "<Figure size 640x480 with 1 Axes>"
      ]
     },
     "metadata": {},
     "output_type": "display_data"
    }
   ],
   "source": [
    "df[\"Sex\"].value_counts().plot(kind = \"bar\")"
   ]
  },
  {
   "cell_type": "code",
   "execution_count": 41,
   "id": "941fbd6c-cf50-417c-867a-7e510a6984b4",
   "metadata": {},
   "outputs": [
    {
     "data": {
      "text/plain": [
       "0"
      ]
     },
     "execution_count": 41,
     "metadata": {},
     "output_type": "execute_result"
    }
   ],
   "source": [
    "df[\"Sex\"].isnull().sum()\n",
    "# there is no any missing values \n"
   ]
  },
  {
   "cell_type": "markdown",
   "id": "61318d53-bdb6-4c56-8519-7e8420eb1c24",
   "metadata": {},
   "source": [
    "### Sex \n",
    "**Conclusions :-**\n",
    "- there are more count of male as compare to females\n",
    "  "
   ]
  },
  {
   "cell_type": "markdown",
   "id": "533401a6-c865-4fc0-a930-564058bd08ff",
   "metadata": {},
   "source": [
    "### Embarked "
   ]
  },
  {
   "cell_type": "code",
   "execution_count": 42,
   "id": "68fb537b-fc16-40f1-ab27-9e50171bc364",
   "metadata": {},
   "outputs": [
    {
     "data": {
      "text/plain": [
       "S    914\n",
       "C    270\n",
       "Q    123\n",
       "Name: Embarked, dtype: int64"
      ]
     },
     "execution_count": 42,
     "metadata": {},
     "output_type": "execute_result"
    }
   ],
   "source": [
    "df[\"Embarked\"].value_counts()\n",
    "# S, C ,Q this all are the cities from where the passengers entered into the titanic \n",
    "# it was starting from the S and ends at the Q city"
   ]
  },
  {
   "cell_type": "code",
   "execution_count": 43,
   "id": "c2685957-da5c-4635-b867-b6c5c5244f44",
   "metadata": {},
   "outputs": [
    {
     "data": {
      "text/plain": [
       "<Axes: ylabel='Embarked'>"
      ]
     },
     "execution_count": 43,
     "metadata": {},
     "output_type": "execute_result"
    },
    {
     "data": {
      "image/png": "[encoded data removed]",
      "text/plain": [
       "<Figure size 640x480 with 1 Axes>"
      ]
     },
     "metadata": {},
     "output_type": "display_data"
    }
   ],
   "source": [
    "df[\"Embarked\"].value_counts().plot(kind = \"pie\" , autopct = \"%0.2f%%\")\n",
    "# more no.of peoples are entered into the titanic from the starting point i.e S city "
   ]
  },
  {
   "cell_type": "code",
   "execution_count": 44,
   "id": "4dc71534-0b31-4b3e-a269-e0cd9321c209",
   "metadata": {},
   "outputs": [
    {
     "data": {
      "text/plain": [
       "<Axes: >"
      ]
     },
     "execution_count": 44,
     "metadata": {},
     "output_type": "execute_result"
    },
    {
     "data": {
      "image/png": "[encoded data removed]",
      "text/plain": [
       "<Figure size 640x480 with 1 Axes>"
      ]
     },
     "metadata": {},
     "output_type": "display_data"
    }
   ],
   "source": [
    "df[\"Embarked\"].value_counts().plot(kind = \"bar\" )"
   ]
  },
  {
   "cell_type": "code",
   "execution_count": 45,
   "id": "971feca9-d5db-43b9-9fe9-3166c3ac4a97",
   "metadata": {},
   "outputs": [
    {
     "data": {
      "text/plain": [
       "2"
      ]
     },
     "execution_count": 45,
     "metadata": {},
     "output_type": "execute_result"
    }
   ],
   "source": [
    "df[\"Embarked\"].isnull().sum()\n",
    "# there are 2 missing values "
   ]
  },
  {
   "cell_type": "markdown",
   "id": "12b0037a-93d6-4399-b218-4a12d5867c4e",
   "metadata": {},
   "source": [
    "### Embarked \n",
    "**Conclusion :-**\n",
    "- more no.of peoples are entered into the titanic from the starting point i.e S city\n",
    "- there are 2 missing values "
   ]
  },
  {
   "cell_type": "code",
   "execution_count": 46,
   "id": "262a34de-d75a-4cac-8006-ddf8818069eb",
   "metadata": {},
   "outputs": [
    {
     "data": {
      "text/html": [
       "<div>\n",
       "<style scoped>\n",
       "    .dataframe tbody tr th:only-of-type {\n",
       "        vertical-align: middle;\n",
       "    }\n",
       "\n",
       "    .dataframe tbody tr th {\n",
       "        vertical-align: top;\n",
       "    }\n",
       "\n",
       "    .dataframe thead th {\n",
       "        text-align: right;\n",
       "    }\n",
       "</style>\n",
       "<table border=\"1\" class=\"dataframe\">\n",
       "  <thead>\n",
       "    <tr style=\"text-align: right;\">\n",
       "      <th></th>\n",
       "      <th>Survived</th>\n",
       "      <th>Pclass</th>\n",
       "      <th>Name</th>\n",
       "      <th>Sex</th>\n",
       "      <th>Age</th>\n",
       "      <th>SibSp</th>\n",
       "      <th>Parch</th>\n",
       "      <th>Ticket</th>\n",
       "      <th>Fare</th>\n",
       "      <th>Cabin</th>\n",
       "      <th>Embarked</th>\n",
       "    </tr>\n",
       "  </thead>\n",
       "  <tbody>\n",
       "    <tr>\n",
       "      <th>0</th>\n",
       "      <td>0.0</td>\n",
       "      <td>3</td>\n",
       "      <td>Braund, Mr. Owen Harris</td>\n",
       "      <td>male</td>\n",
       "      <td>22.0</td>\n",
       "      <td>1</td>\n",
       "      <td>0</td>\n",
       "      <td>A/5 21171</td>\n",
       "      <td>7.2500</td>\n",
       "      <td>NaN</td>\n",
       "      <td>S</td>\n",
       "    </tr>\n",
       "    <tr>\n",
       "      <th>1</th>\n",
       "      <td>1.0</td>\n",
       "      <td>1</td>\n",
       "      <td>Cumings, Mrs. John Bradley (Florence Briggs Th...</td>\n",
       "      <td>female</td>\n",
       "      <td>38.0</td>\n",
       "      <td>1</td>\n",
       "      <td>0</td>\n",
       "      <td>PC 17599</td>\n",
       "      <td>71.2833</td>\n",
       "      <td>C85</td>\n",
       "      <td>C</td>\n",
       "    </tr>\n",
       "    <tr>\n",
       "      <th>2</th>\n",
       "      <td>1.0</td>\n",
       "      <td>3</td>\n",
       "      <td>Heikkinen, Miss. Laina</td>\n",
       "      <td>female</td>\n",
       "      <td>26.0</td>\n",
       "      <td>0</td>\n",
       "      <td>0</td>\n",
       "      <td>STON/O2. 3101282</td>\n",
       "      <td>7.9250</td>\n",
       "      <td>NaN</td>\n",
       "      <td>S</td>\n",
       "    </tr>\n",
       "    <tr>\n",
       "      <th>3</th>\n",
       "      <td>1.0</td>\n",
       "      <td>1</td>\n",
       "      <td>Futrelle, Mrs. Jacques Heath (Lily May Peel)</td>\n",
       "      <td>female</td>\n",
       "      <td>35.0</td>\n",
       "      <td>1</td>\n",
       "      <td>0</td>\n",
       "      <td>113803</td>\n",
       "      <td>53.1000</td>\n",
       "      <td>C123</td>\n",
       "      <td>S</td>\n",
       "    </tr>\n",
       "    <tr>\n",
       "      <th>4</th>\n",
       "      <td>0.0</td>\n",
       "      <td>3</td>\n",
       "      <td>Allen, Mr. William Henry</td>\n",
       "      <td>male</td>\n",
       "      <td>35.0</td>\n",
       "      <td>0</td>\n",
       "      <td>0</td>\n",
       "      <td>373450</td>\n",
       "      <td>8.0500</td>\n",
       "      <td>NaN</td>\n",
       "      <td>S</td>\n",
       "    </tr>\n",
       "  </tbody>\n",
       "</table>\n",
       "</div>"
      ],
      "text/plain": [
       "  Survived Pclass                                               Name     Sex  \\\n",
       "0      0.0      3                            Braund, Mr. Owen Harris    male   \n",
       "1      1.0      1  Cumings, Mrs. John Bradley (Florence Briggs Th...  female   \n",
       "2      1.0      3                             Heikkinen, Miss. Laina  female   \n",
       "3      1.0      1       Futrelle, Mrs. Jacques Heath (Lily May Peel)  female   \n",
       "4      0.0      3                           Allen, Mr. William Henry    male   \n",
       "\n",
       "    Age  SibSp  Parch            Ticket     Fare Cabin Embarked  \n",
       "0  22.0      1      0         A/5 21171   7.2500   NaN        S  \n",
       "1  38.0      1      0          PC 17599  71.2833   C85        C  \n",
       "2  26.0      0      0  STON/O2. 3101282   7.9250   NaN        S  \n",
       "3  35.0      1      0            113803  53.1000  C123        S  \n",
       "4  35.0      0      0            373450   8.0500   NaN        S  "
      ]
     },
     "execution_count": 46,
     "metadata": {},
     "output_type": "execute_result"
    }
   ],
   "source": [
    "df.head()"
   ]
  },
  {
   "cell_type": "markdown",
   "id": "c3419c0a-bcc1-4d0b-ac92-d9fe6542f23f",
   "metadata": {},
   "source": [
    "### SibSp and Parch"
   ]
  },
  {
   "cell_type": "code",
   "execution_count": 47,
   "id": "733ee2d4-bf1c-4fdc-b4b1-e9fe2db94155",
   "metadata": {},
   "outputs": [
    {
     "data": {
      "text/plain": [
       "0    891\n",
       "1    319\n",
       "2     42\n",
       "3     20\n",
       "4     22\n",
       "5      6\n",
       "8      9\n",
       "Name: SibSp, dtype: int64"
      ]
     },
     "execution_count": 47,
     "metadata": {},
     "output_type": "execute_result"
    }
   ],
   "source": [
    "df[\"SibSp\"].value_counts().sort_index(ascending = True)"
   ]
  },
  {
   "cell_type": "code",
   "execution_count": 48,
   "id": "c221522a-a03a-43e6-8568-f921fbcbffd2",
   "metadata": {},
   "outputs": [
    {
     "data": {
      "text/plain": [
       "0    1002\n",
       "1     170\n",
       "2     113\n",
       "3       8\n",
       "4       6\n",
       "5       6\n",
       "6       2\n",
       "9       2\n",
       "Name: Parch, dtype: int64"
      ]
     },
     "execution_count": 48,
     "metadata": {},
     "output_type": "execute_result"
    }
   ],
   "source": [
    "df[\"Parch\"].value_counts().sort_index(ascending = True)"
   ]
  },
  {
   "cell_type": "code",
   "execution_count": 49,
   "id": "fabad6ef-ab10-4600-a3ad-4428f4657cbb",
   "metadata": {},
   "outputs": [
    {
     "data": {
      "text/plain": [
       "<Axes: ylabel='SibSp'>"
      ]
     },
     "execution_count": 49,
     "metadata": {},
     "output_type": "execute_result"
    },
    {
     "data": {
      "image/png": "[encoded data removed]",
      "text/plain": [
       "<Figure size 640x480 with 1 Axes>"
      ]
     },
     "metadata": {},
     "output_type": "display_data"
    }
   ],
   "source": [
    "df[\"SibSp\"].value_counts().plot(kind = \"pie\" , autopct = \"%0.2f%%\")"
   ]
  },
  {
   "cell_type": "code",
   "execution_count": 50,
   "id": "9ed8f508-4505-4a94-8ae3-0b1ff6663b53",
   "metadata": {},
   "outputs": [
    {
     "data": {
      "text/plain": [
       "<Axes: ylabel='Parch'>"
      ]
     },
     "execution_count": 50,
     "metadata": {},
     "output_type": "execute_result"
    },
    {
     "data": {
      "image/png": "[encoded data removed]",
      "text/plain": [
       "<Figure size 640x480 with 1 Axes>"
      ]
     },
     "metadata": {},
     "output_type": "display_data"
    }
   ],
   "source": [
    "df[\"Parch\"].value_counts().plot(kind = \"pie\" , autopct = \"%0.2f%%\")"
   ]
  },
  {
   "cell_type": "markdown",
   "id": "a78b4e95-fb63-4534-b7e6-31a60e0ef1de",
   "metadata": {},
   "source": [
    "### SibSp & Parch \n",
    "- These 2 col should be one coz both are showing the same info\n",
    "- we should make feature engineering col named as(family_size)"
   ]
  },
  {
   "cell_type": "markdown",
   "id": "eecded4c-cbba-48df-9c99-31e6ed604164",
   "metadata": {},
   "source": [
    "# Bivariate analysis \n",
    "### `here my target col is Survived`"
   ]
  },
  {
   "cell_type": "code",
   "execution_count": 51,
   "id": "b8118bce-09b9-43fe-aac6-45ed53e45740",
   "metadata": {},
   "outputs": [
    {
     "data": {
      "text/html": [
       "<div>\n",
       "<style scoped>\n",
       "    .dataframe tbody tr th:only-of-type {\n",
       "        vertical-align: middle;\n",
       "    }\n",
       "\n",
       "    .dataframe tbody tr th {\n",
       "        vertical-align: top;\n",
       "    }\n",
       "\n",
       "    .dataframe thead th {\n",
       "        text-align: right;\n",
       "    }\n",
       "</style>\n",
       "<table border=\"1\" class=\"dataframe\">\n",
       "  <thead>\n",
       "    <tr style=\"text-align: right;\">\n",
       "      <th></th>\n",
       "      <th>Survived</th>\n",
       "      <th>Pclass</th>\n",
       "      <th>Name</th>\n",
       "      <th>Sex</th>\n",
       "      <th>Age</th>\n",
       "      <th>SibSp</th>\n",
       "      <th>Parch</th>\n",
       "      <th>Ticket</th>\n",
       "      <th>Fare</th>\n",
       "      <th>Cabin</th>\n",
       "      <th>Embarked</th>\n",
       "    </tr>\n",
       "  </thead>\n",
       "  <tbody>\n",
       "    <tr>\n",
       "      <th>0</th>\n",
       "      <td>0.0</td>\n",
       "      <td>3</td>\n",
       "      <td>Braund, Mr. Owen Harris</td>\n",
       "      <td>male</td>\n",
       "      <td>22.0</td>\n",
       "      <td>1</td>\n",
       "      <td>0</td>\n",
       "      <td>A/5 21171</td>\n",
       "      <td>7.2500</td>\n",
       "      <td>NaN</td>\n",
       "      <td>S</td>\n",
       "    </tr>\n",
       "    <tr>\n",
       "      <th>1</th>\n",
       "      <td>1.0</td>\n",
       "      <td>1</td>\n",
       "      <td>Cumings, Mrs. John Bradley (Florence Briggs Th...</td>\n",
       "      <td>female</td>\n",
       "      <td>38.0</td>\n",
       "      <td>1</td>\n",
       "      <td>0</td>\n",
       "      <td>PC 17599</td>\n",
       "      <td>71.2833</td>\n",
       "      <td>C85</td>\n",
       "      <td>C</td>\n",
       "    </tr>\n",
       "    <tr>\n",
       "      <th>2</th>\n",
       "      <td>1.0</td>\n",
       "      <td>3</td>\n",
       "      <td>Heikkinen, Miss. Laina</td>\n",
       "      <td>female</td>\n",
       "      <td>26.0</td>\n",
       "      <td>0</td>\n",
       "      <td>0</td>\n",
       "      <td>STON/O2. 3101282</td>\n",
       "      <td>7.9250</td>\n",
       "      <td>NaN</td>\n",
       "      <td>S</td>\n",
       "    </tr>\n",
       "    <tr>\n",
       "      <th>3</th>\n",
       "      <td>1.0</td>\n",
       "      <td>1</td>\n",
       "      <td>Futrelle, Mrs. Jacques Heath (Lily May Peel)</td>\n",
       "      <td>female</td>\n",
       "      <td>35.0</td>\n",
       "      <td>1</td>\n",
       "      <td>0</td>\n",
       "      <td>113803</td>\n",
       "      <td>53.1000</td>\n",
       "      <td>C123</td>\n",
       "      <td>S</td>\n",
       "    </tr>\n",
       "    <tr>\n",
       "      <th>4</th>\n",
       "      <td>0.0</td>\n",
       "      <td>3</td>\n",
       "      <td>Allen, Mr. William Henry</td>\n",
       "      <td>male</td>\n",
       "      <td>35.0</td>\n",
       "      <td>0</td>\n",
       "      <td>0</td>\n",
       "      <td>373450</td>\n",
       "      <td>8.0500</td>\n",
       "      <td>NaN</td>\n",
       "      <td>S</td>\n",
       "    </tr>\n",
       "  </tbody>\n",
       "</table>\n",
       "</div>"
      ],
      "text/plain": [
       "  Survived Pclass                                               Name     Sex  \\\n",
       "0      0.0      3                            Braund, Mr. Owen Harris    male   \n",
       "1      1.0      1  Cumings, Mrs. John Bradley (Florence Briggs Th...  female   \n",
       "2      1.0      3                             Heikkinen, Miss. Laina  female   \n",
       "3      1.0      1       Futrelle, Mrs. Jacques Heath (Lily May Peel)  female   \n",
       "4      0.0      3                           Allen, Mr. William Henry    male   \n",
       "\n",
       "    Age  SibSp  Parch            Ticket     Fare Cabin Embarked  \n",
       "0  22.0      1      0         A/5 21171   7.2500   NaN        S  \n",
       "1  38.0      1      0          PC 17599  71.2833   C85        C  \n",
       "2  26.0      0      0  STON/O2. 3101282   7.9250   NaN        S  \n",
       "3  35.0      1      0            113803  53.1000  C123        S  \n",
       "4  35.0      0      0            373450   8.0500   NaN        S  "
      ]
     },
     "execution_count": 51,
     "metadata": {},
     "output_type": "execute_result"
    }
   ],
   "source": [
    "df.head()"
   ]
  },
  {
   "cell_type": "markdown",
   "id": "bc95dd42-41b6-4d3f-abed-03e50a4537da",
   "metadata": {},
   "source": [
    "### Survived &\tPclass\t"
   ]
  },
  {
   "cell_type": "code",
   "execution_count": 52,
   "id": "9270c901-fd2f-4f37-b000-86cb6d474ab6",
   "metadata": {},
   "outputs": [
    {
     "data": {
      "text/html": [
       "<div>\n",
       "<style scoped>\n",
       "    .dataframe tbody tr th:only-of-type {\n",
       "        vertical-align: middle;\n",
       "    }\n",
       "\n",
       "    .dataframe tbody tr th {\n",
       "        vertical-align: top;\n",
       "    }\n",
       "\n",
       "    .dataframe thead th {\n",
       "        text-align: right;\n",
       "    }\n",
       "</style>\n",
       "<table border=\"1\" class=\"dataframe\">\n",
       "  <thead>\n",
       "    <tr style=\"text-align: right;\">\n",
       "      <th>Pclass</th>\n",
       "      <th>1</th>\n",
       "      <th>2</th>\n",
       "      <th>3</th>\n",
       "    </tr>\n",
       "    <tr>\n",
       "      <th>Survived</th>\n",
       "      <th></th>\n",
       "      <th></th>\n",
       "      <th></th>\n",
       "    </tr>\n",
       "  </thead>\n",
       "  <tbody>\n",
       "    <tr>\n",
       "      <th>0.0</th>\n",
       "      <td>80</td>\n",
       "      <td>97</td>\n",
       "      <td>372</td>\n",
       "    </tr>\n",
       "    <tr>\n",
       "      <th>1.0</th>\n",
       "      <td>136</td>\n",
       "      <td>87</td>\n",
       "      <td>119</td>\n",
       "    </tr>\n",
       "  </tbody>\n",
       "</table>\n",
       "</div>"
      ],
      "text/plain": [
       "Pclass      1   2    3\n",
       "Survived              \n",
       "0.0        80  97  372\n",
       "1.0       136  87  119"
      ]
     },
     "execution_count": 52,
     "metadata": {},
     "output_type": "execute_result"
    }
   ],
   "source": [
    "pd.crosstab(df[\"Survived\"] , df[\"Pclass\"])\n",
    "#  The peoples who are in class 1 have more chance to survived as compared to both\n",
    "#  The peoples who are in class 3 have more chance to died as compare to both "
   ]
  },
  {
   "cell_type": "code",
   "execution_count": 53,
   "id": "7e74b794-56a0-4e8a-abc9-7019d3f8b9c8",
   "metadata": {},
   "outputs": [
    {
     "data": {
      "text/html": [
       "<div>\n",
       "<style scoped>\n",
       "    .dataframe tbody tr th:only-of-type {\n",
       "        vertical-align: middle;\n",
       "    }\n",
       "\n",
       "    .dataframe tbody tr th {\n",
       "        vertical-align: top;\n",
       "    }\n",
       "\n",
       "    .dataframe thead th {\n",
       "        text-align: right;\n",
       "    }\n",
       "</style>\n",
       "<table border=\"1\" class=\"dataframe\">\n",
       "  <thead>\n",
       "    <tr style=\"text-align: right;\">\n",
       "      <th>Pclass</th>\n",
       "      <th>1</th>\n",
       "      <th>2</th>\n",
       "      <th>3</th>\n",
       "    </tr>\n",
       "    <tr>\n",
       "      <th>Survived</th>\n",
       "      <th></th>\n",
       "      <th></th>\n",
       "      <th></th>\n",
       "    </tr>\n",
       "  </thead>\n",
       "  <tbody>\n",
       "    <tr>\n",
       "      <th>0.0</th>\n",
       "      <td>37.037037</td>\n",
       "      <td>52.717391</td>\n",
       "      <td>75.763747</td>\n",
       "    </tr>\n",
       "    <tr>\n",
       "      <th>1.0</th>\n",
       "      <td>62.962963</td>\n",
       "      <td>47.282609</td>\n",
       "      <td>24.236253</td>\n",
       "    </tr>\n",
       "  </tbody>\n",
       "</table>\n",
       "</div>"
      ],
      "text/plain": [
       "Pclass            1          2          3\n",
       "Survived                                 \n",
       "0.0       37.037037  52.717391  75.763747\n",
       "1.0       62.962963  47.282609  24.236253"
      ]
     },
     "execution_count": 53,
     "metadata": {},
     "output_type": "execute_result"
    }
   ],
   "source": [
    "pd.crosstab(df[\"Survived\"] , df[\"Pclass\"] ,normalize=\"columns\")*100 # it will give me percentage of the col \n"
   ]
  },
  {
   "cell_type": "code",
   "execution_count": 54,
   "id": "467355c2-ff1c-4054-b5c4-5cf02652d469",
   "metadata": {},
   "outputs": [
    {
     "data": {
      "text/plain": [
       "<Axes: xlabel='Pclass', ylabel='Survived'>"
      ]
     },
     "execution_count": 54,
     "metadata": {},
     "output_type": "execute_result"
    },
    {
     "data": {
      "image/png": "[encoded data removed]",
      "text/plain": [
       "<Figure size 640x480 with 2 Axes>"
      ]
     },
     "metadata": {},
     "output_type": "display_data"
    }
   ],
   "source": [
    "sns.heatmap(pd.crosstab(df[\"Survived\"] , df[\"Pclass\"] ,normalize=\"columns\")*100)"
   ]
  },
  {
   "cell_type": "markdown",
   "id": "43205cff-6500-41e1-b4c9-fdb2b32e2b9f",
   "metadata": {},
   "source": [
    "### Survived & Pclass\n",
    "**Conclusion :-**\n",
    "- The peoples who are in class 1 have more chance to survived as compared to both\n",
    "- The peoples who are in class 3 have more chance to died as compare to both"
   ]
  },
  {
   "cell_type": "markdown",
   "id": "22f76fc0-1a94-495c-a054-77fab9958820",
   "metadata": {},
   "source": [
    "### Survived & Sex"
   ]
  },
  {
   "cell_type": "code",
   "execution_count": 55,
   "id": "ba4d9c72-26af-4b70-9931-9ae9e8b8944b",
   "metadata": {},
   "outputs": [
    {
     "data": {
      "text/html": [
       "<div>\n",
       "<style scoped>\n",
       "    .dataframe tbody tr th:only-of-type {\n",
       "        vertical-align: middle;\n",
       "    }\n",
       "\n",
       "    .dataframe tbody tr th {\n",
       "        vertical-align: top;\n",
       "    }\n",
       "\n",
       "    .dataframe thead th {\n",
       "        text-align: right;\n",
       "    }\n",
       "</style>\n",
       "<table border=\"1\" class=\"dataframe\">\n",
       "  <thead>\n",
       "    <tr style=\"text-align: right;\">\n",
       "      <th>Sex</th>\n",
       "      <th>female</th>\n",
       "      <th>male</th>\n",
       "    </tr>\n",
       "    <tr>\n",
       "      <th>Survived</th>\n",
       "      <th></th>\n",
       "      <th></th>\n",
       "    </tr>\n",
       "  </thead>\n",
       "  <tbody>\n",
       "    <tr>\n",
       "      <th>0.0</th>\n",
       "      <td>25.796178</td>\n",
       "      <td>81.109185</td>\n",
       "    </tr>\n",
       "    <tr>\n",
       "      <th>1.0</th>\n",
       "      <td>74.203822</td>\n",
       "      <td>18.890815</td>\n",
       "    </tr>\n",
       "  </tbody>\n",
       "</table>\n",
       "</div>"
      ],
      "text/plain": [
       "Sex          female       male\n",
       "Survived                      \n",
       "0.0       25.796178  81.109185\n",
       "1.0       74.203822  18.890815"
      ]
     },
     "execution_count": 55,
     "metadata": {},
     "output_type": "execute_result"
    }
   ],
   "source": [
    "pd.crosstab(df[\"Survived\"] , df[\"Sex\"] ,normalize=\"columns\")*100\n",
    "# if you are a female then u have more chance to live \n",
    "# if you are a male then u have more chance to dead"
   ]
  },
  {
   "cell_type": "code",
   "execution_count": 56,
   "id": "f8184ba4-1ec1-4497-a5a6-374bf108de33",
   "metadata": {},
   "outputs": [
    {
     "data": {
      "text/plain": [
       "<Axes: xlabel='Survived'>"
      ]
     },
     "execution_count": 56,
     "metadata": {},
     "output_type": "execute_result"
    },
    {
     "data": {
      "image/png": "[encoded data removed]",
      "text/plain": [
       "<Figure size 640x480 with 1 Axes>"
      ]
     },
     "metadata": {},
     "output_type": "display_data"
    }
   ],
   "source": [
    "pd.crosstab(df[\"Survived\"] , df[\"Sex\"] ,normalize=\"columns\").plot(kind = \"bar\")"
   ]
  },
  {
   "cell_type": "code",
   "execution_count": 57,
   "id": "7e2377f2-72bc-44e7-80d9-076e1af9b705",
   "metadata": {},
   "outputs": [
    {
     "data": {
      "text/plain": [
       "<Axes: xlabel='Sex', ylabel='Survived'>"
      ]
     },
     "execution_count": 57,
     "metadata": {},
     "output_type": "execute_result"
    },
    {
     "data": {
      "image/png": "[encoded data removed]",
      "text/plain": [
       "<Figure size 640x480 with 2 Axes>"
      ]
     },
     "metadata": {},
     "output_type": "display_data"
    }
   ],
   "source": [
    "sns.heatmap(pd.crosstab(df[\"Survived\"] , df[\"Sex\"] ,normalize=\"columns\")*100)"
   ]
  },
  {
   "cell_type": "markdown",
   "id": "7b79d5bc-cd61-4670-bcc0-750c44c25197",
   "metadata": {},
   "source": [
    "### Survived & Sex\n",
    "**Conclusion:-**\n",
    "- if you are a female then u have more chance to live \n",
    "- if you are a male then u have more chance to dead"
   ]
  },
  {
   "cell_type": "markdown",
   "id": "127ccdf7-9439-44f7-a642-e20d973b9775",
   "metadata": {},
   "source": [
    "### Survived & Embarked "
   ]
  },
  {
   "cell_type": "code",
   "execution_count": 58,
   "id": "2bf45550-ce01-4827-bf9b-a30794f15c19",
   "metadata": {},
   "outputs": [
    {
     "data": {
      "text/html": [
       "<div>\n",
       "<style scoped>\n",
       "    .dataframe tbody tr th:only-of-type {\n",
       "        vertical-align: middle;\n",
       "    }\n",
       "\n",
       "    .dataframe tbody tr th {\n",
       "        vertical-align: top;\n",
       "    }\n",
       "\n",
       "    .dataframe thead th {\n",
       "        text-align: right;\n",
       "    }\n",
       "</style>\n",
       "<table border=\"1\" class=\"dataframe\">\n",
       "  <thead>\n",
       "    <tr style=\"text-align: right;\">\n",
       "      <th>Embarked</th>\n",
       "      <th>C</th>\n",
       "      <th>Q</th>\n",
       "      <th>S</th>\n",
       "    </tr>\n",
       "    <tr>\n",
       "      <th>Survived</th>\n",
       "      <th></th>\n",
       "      <th></th>\n",
       "      <th></th>\n",
       "    </tr>\n",
       "  </thead>\n",
       "  <tbody>\n",
       "    <tr>\n",
       "      <th>0.0</th>\n",
       "      <td>44.642857</td>\n",
       "      <td>61.038961</td>\n",
       "      <td>66.304348</td>\n",
       "    </tr>\n",
       "    <tr>\n",
       "      <th>1.0</th>\n",
       "      <td>55.357143</td>\n",
       "      <td>38.961039</td>\n",
       "      <td>33.695652</td>\n",
       "    </tr>\n",
       "  </tbody>\n",
       "</table>\n",
       "</div>"
      ],
      "text/plain": [
       "Embarked          C          Q          S\n",
       "Survived                                 \n",
       "0.0       44.642857  61.038961  66.304348\n",
       "1.0       55.357143  38.961039  33.695652"
      ]
     },
     "execution_count": 58,
     "metadata": {},
     "output_type": "execute_result"
    }
   ],
   "source": [
    "pd.crosstab(df[\"Survived\"] , df[\"Embarked\"] ,normalize=\"columns\")*100\n",
    "\n",
    "# if you are from C city then u have more chance to survived \n",
    "# if you are from the S city then more chance to dead"
   ]
  },
  {
   "cell_type": "code",
   "execution_count": 59,
   "id": "847dd9dd-650a-40f3-aa83-71569b07b2e7",
   "metadata": {},
   "outputs": [
    {
     "data": {
      "text/html": [
       "<div>\n",
       "<style scoped>\n",
       "    .dataframe tbody tr th:only-of-type {\n",
       "        vertical-align: middle;\n",
       "    }\n",
       "\n",
       "    .dataframe tbody tr th {\n",
       "        vertical-align: top;\n",
       "    }\n",
       "\n",
       "    .dataframe thead th {\n",
       "        text-align: right;\n",
       "    }\n",
       "</style>\n",
       "<table border=\"1\" class=\"dataframe\">\n",
       "  <thead>\n",
       "    <tr style=\"text-align: right;\">\n",
       "      <th>Embarked</th>\n",
       "      <th>C</th>\n",
       "      <th>Q</th>\n",
       "      <th>S</th>\n",
       "    </tr>\n",
       "    <tr>\n",
       "      <th>Pclass</th>\n",
       "      <th></th>\n",
       "      <th></th>\n",
       "      <th></th>\n",
       "    </tr>\n",
       "  </thead>\n",
       "  <tbody>\n",
       "    <tr>\n",
       "      <th>1</th>\n",
       "      <td>52.222222</td>\n",
       "      <td>2.439024</td>\n",
       "      <td>19.365427</td>\n",
       "    </tr>\n",
       "    <tr>\n",
       "      <th>2</th>\n",
       "      <td>10.370370</td>\n",
       "      <td>5.691057</td>\n",
       "      <td>26.477024</td>\n",
       "    </tr>\n",
       "    <tr>\n",
       "      <th>3</th>\n",
       "      <td>37.407407</td>\n",
       "      <td>91.869919</td>\n",
       "      <td>54.157549</td>\n",
       "    </tr>\n",
       "  </tbody>\n",
       "</table>\n",
       "</div>"
      ],
      "text/plain": [
       "Embarked          C          Q          S\n",
       "Pclass                                   \n",
       "1         52.222222   2.439024  19.365427\n",
       "2         10.370370   5.691057  26.477024\n",
       "3         37.407407  91.869919  54.157549"
      ]
     },
     "execution_count": 59,
     "metadata": {},
     "output_type": "execute_result"
    }
   ],
   "source": [
    "pd.crosstab(df['Pclass'],df['Embarked'],normalize='columns')*100\n",
    "# in C city there are most of the peoples are travelling in class 1 and thats why more chance to survived"
   ]
  },
  {
   "cell_type": "markdown",
   "id": "3cfed7e5-63c4-4667-8c8a-89a60364effb",
   "metadata": {},
   "source": [
    "### Conclusion : - \n",
    "- in C city there are most of the peoples are travelling in class 1 and thats why more chance to survived"
   ]
  },
  {
   "cell_type": "markdown",
   "id": "7ee1e1b9-b3d5-4d1f-9229-3b21dacf6bd1",
   "metadata": {},
   "source": [
    "### Survived and age \n"
   ]
  },
  {
   "cell_type": "code",
   "execution_count": 60,
   "id": "6454502a-047e-4d6c-bac0-ea489781bb8a",
   "metadata": {},
   "outputs": [
    {
     "data": {
      "image/png": "[encoded data removed]",
      "text/plain": [
       "<Figure size 640x480 with 1 Axes>"
      ]
     },
     "metadata": {},
     "output_type": "display_data"
    }
   ],
   "source": [
    "\n",
    "df[df['Survived'] == 1]['Age'].plot(kind='kde',label='Survived')\n",
    "df[df['Survived'] == 0]['Age'].plot(kind='kde',label='Not Survived')\n",
    "\n",
    "plt.legend()\n",
    "plt.show()"
   ]
  },
  {
   "cell_type": "markdown",
   "id": "eb28fd49-7e00-4755-98b3-e80a2f9a4da0",
   "metadata": {},
   "source": [
    "# Feature engineering :- "
   ]
  },
  {
   "cell_type": "code",
   "execution_count": 61,
   "id": "9aba6200-fe68-4c61-adc6-425850a2070c",
   "metadata": {},
   "outputs": [],
   "source": [
    "# we should make feature engineering col named as(family_size)\n",
    "#df[\"family_size\"] = df[\"SibSp\"] + df[\"Parch\"]+1"
   ]
  },
  {
   "cell_type": "code",
   "execution_count": 62,
   "id": "f51ece10-327b-454b-a21d-b3b357547fed",
   "metadata": {},
   "outputs": [],
   "source": [
    "df.insert(4, \"family_size\" ,df[\"SibSp\"] + df[\"Parch\"]+1)"
   ]
  },
  {
   "cell_type": "code",
   "execution_count": 63,
   "id": "f305dc21-0bb4-43a4-a379-f7f1c4a92fbe",
   "metadata": {},
   "outputs": [],
   "source": [
    "# family_type\n",
    "# 1 -> alone\n",
    "# 2-4 -> small\n",
    "# >5 -> large\n",
    "\n",
    "def transform_family_size(num):\n",
    "    \n",
    "\n",
    "    if num == 1:\n",
    "        return 'alone'\n",
    "    elif num>1 and num <5:\n",
    "        return \"small\"\n",
    "    else:\n",
    "        return \"large\""
   ]
  },
  {
   "cell_type": "code",
   "execution_count": 64,
   "id": "328922bf-61de-46dd-af5e-51e11871d551",
   "metadata": {},
   "outputs": [],
   "source": [
    "#df[\"family_type\"] = df[\"family_size\"].apply(transform_family_size)"
   ]
  },
  {
   "cell_type": "code",
   "execution_count": 65,
   "id": "47233055-12f6-4d41-b486-0593786dca86",
   "metadata": {},
   "outputs": [],
   "source": [
    "df.insert(5,\"family_type\" ,df[\"family_size\"].apply(transform_family_size))"
   ]
  },
  {
   "cell_type": "code",
   "execution_count": 66,
   "id": "46ffc959-ecc0-4ce3-8b7d-df384f09baeb",
   "metadata": {},
   "outputs": [],
   "source": [
    "#df[\"indivitual_fare ($)\"] = df[\"Fare\"]/df[\"family_size\"]"
   ]
  },
  {
   "cell_type": "code",
   "execution_count": 67,
   "id": "b71deadd-b967-45fd-a5d1-661505f4db53",
   "metadata": {},
   "outputs": [],
   "source": [
    "df.insert(11,\"indivitual_fare($)\" ,df[\"Fare\"]/df[\"family_size\"])"
   ]
  },
  {
   "cell_type": "code",
   "execution_count": 68,
   "id": "524ed430-7562-4868-87c4-d191ce7ef055",
   "metadata": {},
   "outputs": [
    {
     "data": {
      "text/html": [
       "<div>\n",
       "<style scoped>\n",
       "    .dataframe tbody tr th:only-of-type {\n",
       "        vertical-align: middle;\n",
       "    }\n",
       "\n",
       "    .dataframe tbody tr th {\n",
       "        vertical-align: top;\n",
       "    }\n",
       "\n",
       "    .dataframe thead th {\n",
       "        text-align: right;\n",
       "    }\n",
       "</style>\n",
       "<table border=\"1\" class=\"dataframe\">\n",
       "  <thead>\n",
       "    <tr style=\"text-align: right;\">\n",
       "      <th></th>\n",
       "      <th>Survived</th>\n",
       "      <th>Pclass</th>\n",
       "      <th>Name</th>\n",
       "      <th>Sex</th>\n",
       "      <th>family_size</th>\n",
       "      <th>family_type</th>\n",
       "      <th>Age</th>\n",
       "      <th>SibSp</th>\n",
       "      <th>Parch</th>\n",
       "      <th>Ticket</th>\n",
       "      <th>Fare</th>\n",
       "      <th>indivitual_fare($)</th>\n",
       "      <th>Cabin</th>\n",
       "      <th>Embarked</th>\n",
       "    </tr>\n",
       "  </thead>\n",
       "  <tbody>\n",
       "    <tr>\n",
       "      <th>0</th>\n",
       "      <td>0.0</td>\n",
       "      <td>3</td>\n",
       "      <td>Braund, Mr. Owen Harris</td>\n",
       "      <td>male</td>\n",
       "      <td>2</td>\n",
       "      <td>small</td>\n",
       "      <td>22.0</td>\n",
       "      <td>1</td>\n",
       "      <td>0</td>\n",
       "      <td>A/5 21171</td>\n",
       "      <td>7.2500</td>\n",
       "      <td>3.62500</td>\n",
       "      <td>NaN</td>\n",
       "      <td>S</td>\n",
       "    </tr>\n",
       "    <tr>\n",
       "      <th>1</th>\n",
       "      <td>1.0</td>\n",
       "      <td>1</td>\n",
       "      <td>Cumings, Mrs. John Bradley (Florence Briggs Th...</td>\n",
       "      <td>female</td>\n",
       "      <td>2</td>\n",
       "      <td>small</td>\n",
       "      <td>38.0</td>\n",
       "      <td>1</td>\n",
       "      <td>0</td>\n",
       "      <td>PC 17599</td>\n",
       "      <td>71.2833</td>\n",
       "      <td>35.64165</td>\n",
       "      <td>C85</td>\n",
       "      <td>C</td>\n",
       "    </tr>\n",
       "    <tr>\n",
       "      <th>2</th>\n",
       "      <td>1.0</td>\n",
       "      <td>3</td>\n",
       "      <td>Heikkinen, Miss. Laina</td>\n",
       "      <td>female</td>\n",
       "      <td>1</td>\n",
       "      <td>alone</td>\n",
       "      <td>26.0</td>\n",
       "      <td>0</td>\n",
       "      <td>0</td>\n",
       "      <td>STON/O2. 3101282</td>\n",
       "      <td>7.9250</td>\n",
       "      <td>7.92500</td>\n",
       "      <td>NaN</td>\n",
       "      <td>S</td>\n",
       "    </tr>\n",
       "    <tr>\n",
       "      <th>3</th>\n",
       "      <td>1.0</td>\n",
       "      <td>1</td>\n",
       "      <td>Futrelle, Mrs. Jacques Heath (Lily May Peel)</td>\n",
       "      <td>female</td>\n",
       "      <td>2</td>\n",
       "      <td>small</td>\n",
       "      <td>35.0</td>\n",
       "      <td>1</td>\n",
       "      <td>0</td>\n",
       "      <td>113803</td>\n",
       "      <td>53.1000</td>\n",
       "      <td>26.55000</td>\n",
       "      <td>C123</td>\n",
       "      <td>S</td>\n",
       "    </tr>\n",
       "    <tr>\n",
       "      <th>4</th>\n",
       "      <td>0.0</td>\n",
       "      <td>3</td>\n",
       "      <td>Allen, Mr. William Henry</td>\n",
       "      <td>male</td>\n",
       "      <td>1</td>\n",
       "      <td>alone</td>\n",
       "      <td>35.0</td>\n",
       "      <td>0</td>\n",
       "      <td>0</td>\n",
       "      <td>373450</td>\n",
       "      <td>8.0500</td>\n",
       "      <td>8.05000</td>\n",
       "      <td>NaN</td>\n",
       "      <td>S</td>\n",
       "    </tr>\n",
       "  </tbody>\n",
       "</table>\n",
       "</div>"
      ],
      "text/plain": [
       "  Survived Pclass                                               Name     Sex  \\\n",
       "0      0.0      3                            Braund, Mr. Owen Harris    male   \n",
       "1      1.0      1  Cumings, Mrs. John Bradley (Florence Briggs Th...  female   \n",
       "2      1.0      3                             Heikkinen, Miss. Laina  female   \n",
       "3      1.0      1       Futrelle, Mrs. Jacques Heath (Lily May Peel)  female   \n",
       "4      0.0      3                           Allen, Mr. William Henry    male   \n",
       "\n",
       "   family_size family_type   Age  SibSp  Parch            Ticket     Fare  \\\n",
       "0            2       small  22.0      1      0         A/5 21171   7.2500   \n",
       "1            2       small  38.0      1      0          PC 17599  71.2833   \n",
       "2            1       alone  26.0      0      0  STON/O2. 3101282   7.9250   \n",
       "3            2       small  35.0      1      0            113803  53.1000   \n",
       "4            1       alone  35.0      0      0            373450   8.0500   \n",
       "\n",
       "   indivitual_fare($) Cabin Embarked  \n",
       "0             3.62500   NaN        S  \n",
       "1            35.64165   C85        C  \n",
       "2             7.92500   NaN        S  \n",
       "3            26.55000  C123        S  \n",
       "4             8.05000   NaN        S  "
      ]
     },
     "execution_count": 68,
     "metadata": {},
     "output_type": "execute_result"
    }
   ],
   "source": [
    "df.head()"
   ]
  },
  {
   "cell_type": "code",
   "execution_count": 69,
   "id": "54951fdf-cfec-4e89-9f56-1bd5bc7e3c5d",
   "metadata": {},
   "outputs": [
    {
     "data": {
      "text/html": [
       "<div>\n",
       "<style scoped>\n",
       "    .dataframe tbody tr th:only-of-type {\n",
       "        vertical-align: middle;\n",
       "    }\n",
       "\n",
       "    .dataframe tbody tr th {\n",
       "        vertical-align: top;\n",
       "    }\n",
       "\n",
       "    .dataframe thead th {\n",
       "        text-align: right;\n",
       "    }\n",
       "</style>\n",
       "<table border=\"1\" class=\"dataframe\">\n",
       "  <thead>\n",
       "    <tr style=\"text-align: right;\">\n",
       "      <th>family_type</th>\n",
       "      <th>alone</th>\n",
       "      <th>large</th>\n",
       "      <th>small</th>\n",
       "    </tr>\n",
       "    <tr>\n",
       "      <th>Survived</th>\n",
       "      <th></th>\n",
       "      <th></th>\n",
       "      <th></th>\n",
       "    </tr>\n",
       "  </thead>\n",
       "  <tbody>\n",
       "    <tr>\n",
       "      <th>0.0</th>\n",
       "      <td>69.646182</td>\n",
       "      <td>83.870968</td>\n",
       "      <td>42.123288</td>\n",
       "    </tr>\n",
       "    <tr>\n",
       "      <th>1.0</th>\n",
       "      <td>30.353818</td>\n",
       "      <td>16.129032</td>\n",
       "      <td>57.876712</td>\n",
       "    </tr>\n",
       "  </tbody>\n",
       "</table>\n",
       "</div>"
      ],
      "text/plain": [
       "family_type      alone      large      small\n",
       "Survived                                    \n",
       "0.0          69.646182  83.870968  42.123288\n",
       "1.0          30.353818  16.129032  57.876712"
      ]
     },
     "execution_count": 69,
     "metadata": {},
     "output_type": "execute_result"
    }
   ],
   "source": [
    "pd.crosstab(df[\"Survived\"] ,df[\"family_type\"] ,normalize=\"columns\")*100"
   ]
  },
  {
   "cell_type": "markdown",
   "id": "4e36e208-5087-4137-ab6c-480f13284912",
   "metadata": {},
   "source": [
    "### Survived and family_type\n",
    "- if you are alone ------> more chance to dead\n",
    "- if you have large family then highest chance to dead \n",
    "- if you have small family then less chance to dead and more chance to survived "
   ]
  },
  {
   "cell_type": "markdown",
   "id": "14d6e1d0-2b32-4279-ae9a-ca48b7081e2a",
   "metadata": {},
   "source": [
    "# Mixed column :- \n",
    "### Name "
   ]
  },
  {
   "cell_type": "code",
   "execution_count": 70,
   "id": "efe45943-227d-4f64-b104-461dfa37f524",
   "metadata": {},
   "outputs": [],
   "source": [
    "# i need to seperate surname and  title of that name \n",
    "# basically i need to make two columns \n",
    "# no need to keep main name of that person \n"
   ]
  },
  {
   "cell_type": "code",
   "execution_count": 71,
   "id": "3fa82678-d12d-4f8f-b220-9d39e95f3b4c",
   "metadata": {},
   "outputs": [
    {
     "data": {
      "text/plain": [
       "0                                 Braund, Mr. Owen Harris\n",
       "1       Cumings, Mrs. John Bradley (Florence Briggs Th...\n",
       "2                                  Heikkinen, Miss. Laina\n",
       "3            Futrelle, Mrs. Jacques Heath (Lily May Peel)\n",
       "4                                Allen, Mr. William Henry\n",
       "                              ...                        \n",
       "1304                                   Spector, Mr. Woolf\n",
       "1305                         Oliva y Ocana, Dona. Fermina\n",
       "1306                         Saether, Mr. Simon Sivertsen\n",
       "1307                                  Ware, Mr. Frederick\n",
       "1308                             Peter, Master. Michael J\n",
       "Name: Name, Length: 1309, dtype: object"
      ]
     },
     "execution_count": 71,
     "metadata": {},
     "output_type": "execute_result"
    }
   ],
   "source": [
    "df[\"Name\"]"
   ]
  },
  {
   "cell_type": "code",
   "execution_count": 72,
   "id": "916f33d6-34ca-4388-ada8-05983d52e7c7",
   "metadata": {},
   "outputs": [],
   "source": [
    "surname = df[\"Name\"].str.strip().str.split(\",\").str.get(0)"
   ]
  },
  {
   "cell_type": "code",
   "execution_count": 73,
   "id": "e2e58135-5026-4fce-8433-74427a9bc5ab",
   "metadata": {},
   "outputs": [],
   "source": [
    "title = df[\"Name\"].str.strip().str.split(\",\").str.get(1).str.strip().str.split(\" \").str.get(0)"
   ]
  },
  {
   "cell_type": "code",
   "execution_count": 74,
   "id": "a6702c65-8f6a-4d75-9d06-fed55752712d",
   "metadata": {},
   "outputs": [],
   "source": [
    "df.insert(2 ,\"Title\" , title)\n",
    "df.insert(3 ,\"SurName\" , surname)"
   ]
  },
  {
   "cell_type": "code",
   "execution_count": 75,
   "id": "4ed7f058-ce15-4d58-af72-acdcaa8e26a8",
   "metadata": {},
   "outputs": [],
   "source": [
    "df.drop(columns=\"Name\" ,inplace = True)"
   ]
  },
  {
   "cell_type": "code",
   "execution_count": 76,
   "id": "0dd431a6-3d51-4961-ad43-3d7ef8881f9e",
   "metadata": {},
   "outputs": [
    {
     "data": {
      "text/plain": [
       "Index(['Mr.', 'Miss.', 'Mrs.', 'Master.', 'Rev.', 'Dr.', 'Col.', 'Mlle.',\n",
       "       'Major.', 'Ms.', 'Lady.', 'Sir.', 'Mme.', 'Don.', 'Capt.', 'the',\n",
       "       'Jonkheer.', 'Dona.'],\n",
       "      dtype='object')"
      ]
     },
     "execution_count": 76,
     "metadata": {},
     "output_type": "execute_result"
    }
   ],
   "source": [
    "df[\"Title\"].value_counts().index"
   ]
  },
  {
   "cell_type": "code",
   "execution_count": 77,
   "id": "cb7adcca-f64b-4f8b-913b-a635bd4c31b6",
   "metadata": {},
   "outputs": [],
   "source": [
    "df.loc[796 ,\"Title\"] =\"Miss\""
   ]
  },
  {
   "cell_type": "code",
   "execution_count": 78,
   "id": "92420663-d6b6-46fe-b7e0-2b2df7334524",
   "metadata": {},
   "outputs": [],
   "source": [
    "def change_title(title):\n",
    "    if title == 'Mr.':\n",
    "        return \"Mr\"\n",
    "    elif title ==\"Miss.\":\n",
    "        return \"Miss\"\n",
    "    elif title =='Mrs.':\n",
    "        return \"Miss\"\n",
    "    elif title =='Master.':\n",
    "        return \"Mr\"\n",
    "    elif title == 'Rev.':\n",
    "        return \"Mr\"\n",
    "    elif title == 'Col.':\n",
    "        return \"Mr\"\n",
    "    elif title =='Mlle.':\n",
    "        return \"Miss\"\n",
    "    elif title == 'Major.':\n",
    "        return \"Mr\"\n",
    "    elif title =='Ms.':\n",
    "        return \"Miss\"\n",
    "    elif title =='Lady.':\n",
    "        return \"Miss\"\n",
    "    elif title =='Sir.':\n",
    "        return \"Mr\"\n",
    "    elif title =='Mme.':\n",
    "        return \"Miss\"\n",
    "    elif title =='Don.':\n",
    "        return \"Mr\"\n",
    "    elif title =='Capt.':\n",
    "        return \"Mr\"\n",
    "    elif title =='the':\n",
    "        return \"Miss\"\n",
    "    elif title =='Jonkheer.':\n",
    "        return \"Mr\"\n",
    "    elif title =='Dona.':\n",
    "        return \"Miss\"\n",
    "    elif title ==\"Miss\":\n",
    "        return \"Miss\"\n",
    "    elif title ==\"Dr.\":\n",
    "        return \"Mr\"\n",
    "        "
   ]
  },
  {
   "cell_type": "code",
   "execution_count": 79,
   "id": "151df038-ac88-4805-b131-e83da0ff566f",
   "metadata": {},
   "outputs": [],
   "source": [
    "df[\"Title\"] = df[\"Title\"].apply(change_title)"
   ]
  },
  {
   "cell_type": "code",
   "execution_count": 80,
   "id": "833f7d57-fbf3-40d0-a6c4-72882df169e6",
   "metadata": {},
   "outputs": [
    {
     "data": {
      "text/html": [
       "<div>\n",
       "<style scoped>\n",
       "    .dataframe tbody tr th:only-of-type {\n",
       "        vertical-align: middle;\n",
       "    }\n",
       "\n",
       "    .dataframe tbody tr th {\n",
       "        vertical-align: top;\n",
       "    }\n",
       "\n",
       "    .dataframe thead th {\n",
       "        text-align: right;\n",
       "    }\n",
       "</style>\n",
       "<table border=\"1\" class=\"dataframe\">\n",
       "  <thead>\n",
       "    <tr style=\"text-align: right;\">\n",
       "      <th></th>\n",
       "      <th>Survived</th>\n",
       "      <th>Pclass</th>\n",
       "      <th>Title</th>\n",
       "      <th>SurName</th>\n",
       "      <th>Sex</th>\n",
       "      <th>family_size</th>\n",
       "      <th>family_type</th>\n",
       "      <th>Age</th>\n",
       "      <th>SibSp</th>\n",
       "      <th>Parch</th>\n",
       "      <th>Ticket</th>\n",
       "      <th>Fare</th>\n",
       "      <th>indivitual_fare($)</th>\n",
       "      <th>Cabin</th>\n",
       "      <th>Embarked</th>\n",
       "    </tr>\n",
       "  </thead>\n",
       "  <tbody>\n",
       "    <tr>\n",
       "      <th>0</th>\n",
       "      <td>0.0</td>\n",
       "      <td>3</td>\n",
       "      <td>Mr</td>\n",
       "      <td>Braund</td>\n",
       "      <td>male</td>\n",
       "      <td>2</td>\n",
       "      <td>small</td>\n",
       "      <td>22.0</td>\n",
       "      <td>1</td>\n",
       "      <td>0</td>\n",
       "      <td>A/5 21171</td>\n",
       "      <td>7.2500</td>\n",
       "      <td>3.62500</td>\n",
       "      <td>NaN</td>\n",
       "      <td>S</td>\n",
       "    </tr>\n",
       "    <tr>\n",
       "      <th>1</th>\n",
       "      <td>1.0</td>\n",
       "      <td>1</td>\n",
       "      <td>Miss</td>\n",
       "      <td>Cumings</td>\n",
       "      <td>female</td>\n",
       "      <td>2</td>\n",
       "      <td>small</td>\n",
       "      <td>38.0</td>\n",
       "      <td>1</td>\n",
       "      <td>0</td>\n",
       "      <td>PC 17599</td>\n",
       "      <td>71.2833</td>\n",
       "      <td>35.64165</td>\n",
       "      <td>C85</td>\n",
       "      <td>C</td>\n",
       "    </tr>\n",
       "    <tr>\n",
       "      <th>2</th>\n",
       "      <td>1.0</td>\n",
       "      <td>3</td>\n",
       "      <td>Miss</td>\n",
       "      <td>Heikkinen</td>\n",
       "      <td>female</td>\n",
       "      <td>1</td>\n",
       "      <td>alone</td>\n",
       "      <td>26.0</td>\n",
       "      <td>0</td>\n",
       "      <td>0</td>\n",
       "      <td>STON/O2. 3101282</td>\n",
       "      <td>7.9250</td>\n",
       "      <td>7.92500</td>\n",
       "      <td>NaN</td>\n",
       "      <td>S</td>\n",
       "    </tr>\n",
       "    <tr>\n",
       "      <th>3</th>\n",
       "      <td>1.0</td>\n",
       "      <td>1</td>\n",
       "      <td>Miss</td>\n",
       "      <td>Futrelle</td>\n",
       "      <td>female</td>\n",
       "      <td>2</td>\n",
       "      <td>small</td>\n",
       "      <td>35.0</td>\n",
       "      <td>1</td>\n",
       "      <td>0</td>\n",
       "      <td>113803</td>\n",
       "      <td>53.1000</td>\n",
       "      <td>26.55000</td>\n",
       "      <td>C123</td>\n",
       "      <td>S</td>\n",
       "    </tr>\n",
       "    <tr>\n",
       "      <th>4</th>\n",
       "      <td>0.0</td>\n",
       "      <td>3</td>\n",
       "      <td>Mr</td>\n",
       "      <td>Allen</td>\n",
       "      <td>male</td>\n",
       "      <td>1</td>\n",
       "      <td>alone</td>\n",
       "      <td>35.0</td>\n",
       "      <td>0</td>\n",
       "      <td>0</td>\n",
       "      <td>373450</td>\n",
       "      <td>8.0500</td>\n",
       "      <td>8.05000</td>\n",
       "      <td>NaN</td>\n",
       "      <td>S</td>\n",
       "    </tr>\n",
       "  </tbody>\n",
       "</table>\n",
       "</div>"
      ],
      "text/plain": [
       "  Survived Pclass Title    SurName     Sex  family_size family_type   Age  \\\n",
       "0      0.0      3    Mr     Braund    male            2       small  22.0   \n",
       "1      1.0      1  Miss    Cumings  female            2       small  38.0   \n",
       "2      1.0      3  Miss  Heikkinen  female            1       alone  26.0   \n",
       "3      1.0      1  Miss   Futrelle  female            2       small  35.0   \n",
       "4      0.0      3    Mr      Allen    male            1       alone  35.0   \n",
       "\n",
       "   SibSp  Parch            Ticket     Fare  indivitual_fare($) Cabin Embarked  \n",
       "0      1      0         A/5 21171   7.2500             3.62500   NaN        S  \n",
       "1      1      0          PC 17599  71.2833            35.64165   C85        C  \n",
       "2      0      0  STON/O2. 3101282   7.9250             7.92500   NaN        S  \n",
       "3      1      0            113803  53.1000            26.55000  C123        S  \n",
       "4      0      0            373450   8.0500             8.05000   NaN        S  "
      ]
     },
     "execution_count": 80,
     "metadata": {},
     "output_type": "execute_result"
    }
   ],
   "source": [
    "df.head()"
   ]
  },
  {
   "cell_type": "code",
   "execution_count": 81,
   "id": "6c78bf5c-8f3b-4e55-b9b4-1e09c464dc21",
   "metadata": {},
   "outputs": [],
   "source": [
    "# Drop SibSp and Parch col \n",
    "df.drop(columns=[\"SibSp\" ,\"Parch\"] , inplace = True)"
   ]
  },
  {
   "cell_type": "code",
   "execution_count": 82,
   "id": "c78767a3-63e7-438f-ab0c-a5fa843120c3",
   "metadata": {},
   "outputs": [
    {
     "data": {
      "text/html": [
       "<div>\n",
       "<style scoped>\n",
       "    .dataframe tbody tr th:only-of-type {\n",
       "        vertical-align: middle;\n",
       "    }\n",
       "\n",
       "    .dataframe tbody tr th {\n",
       "        vertical-align: top;\n",
       "    }\n",
       "\n",
       "    .dataframe thead th {\n",
       "        text-align: right;\n",
       "    }\n",
       "</style>\n",
       "<table border=\"1\" class=\"dataframe\">\n",
       "  <thead>\n",
       "    <tr style=\"text-align: right;\">\n",
       "      <th></th>\n",
       "      <th>Survived</th>\n",
       "      <th>Pclass</th>\n",
       "      <th>Title</th>\n",
       "      <th>SurName</th>\n",
       "      <th>Sex</th>\n",
       "      <th>family_size</th>\n",
       "      <th>family_type</th>\n",
       "      <th>Age</th>\n",
       "      <th>Ticket</th>\n",
       "      <th>Fare</th>\n",
       "      <th>indivitual_fare($)</th>\n",
       "      <th>Cabin</th>\n",
       "      <th>Embarked</th>\n",
       "    </tr>\n",
       "  </thead>\n",
       "  <tbody>\n",
       "    <tr>\n",
       "      <th>164</th>\n",
       "      <td>0.0</td>\n",
       "      <td>3</td>\n",
       "      <td>Mr</td>\n",
       "      <td>Panula</td>\n",
       "      <td>male</td>\n",
       "      <td>6</td>\n",
       "      <td>large</td>\n",
       "      <td>1.0</td>\n",
       "      <td>3101295</td>\n",
       "      <td>39.6875</td>\n",
       "      <td>6.614583</td>\n",
       "      <td>NaN</td>\n",
       "      <td>S</td>\n",
       "    </tr>\n",
       "    <tr>\n",
       "      <th>568</th>\n",
       "      <td>0.0</td>\n",
       "      <td>3</td>\n",
       "      <td>Mr</td>\n",
       "      <td>Doharr</td>\n",
       "      <td>male</td>\n",
       "      <td>1</td>\n",
       "      <td>alone</td>\n",
       "      <td>NaN</td>\n",
       "      <td>2686</td>\n",
       "      <td>7.2292</td>\n",
       "      <td>7.229200</td>\n",
       "      <td>NaN</td>\n",
       "      <td>C</td>\n",
       "    </tr>\n",
       "    <tr>\n",
       "      <th>650</th>\n",
       "      <td>0.0</td>\n",
       "      <td>3</td>\n",
       "      <td>Mr</td>\n",
       "      <td>Mitkoff</td>\n",
       "      <td>male</td>\n",
       "      <td>1</td>\n",
       "      <td>alone</td>\n",
       "      <td>NaN</td>\n",
       "      <td>349221</td>\n",
       "      <td>7.8958</td>\n",
       "      <td>7.895800</td>\n",
       "      <td>NaN</td>\n",
       "      <td>S</td>\n",
       "    </tr>\n",
       "    <tr>\n",
       "      <th>505</th>\n",
       "      <td>0.0</td>\n",
       "      <td>1</td>\n",
       "      <td>Mr</td>\n",
       "      <td>Penasco y Castellana</td>\n",
       "      <td>male</td>\n",
       "      <td>2</td>\n",
       "      <td>small</td>\n",
       "      <td>18.0</td>\n",
       "      <td>PC 17758</td>\n",
       "      <td>108.9000</td>\n",
       "      <td>54.450000</td>\n",
       "      <td>C65</td>\n",
       "      <td>C</td>\n",
       "    </tr>\n",
       "    <tr>\n",
       "      <th>362</th>\n",
       "      <td>0.0</td>\n",
       "      <td>3</td>\n",
       "      <td>Miss</td>\n",
       "      <td>Barbara</td>\n",
       "      <td>female</td>\n",
       "      <td>2</td>\n",
       "      <td>small</td>\n",
       "      <td>45.0</td>\n",
       "      <td>2691</td>\n",
       "      <td>14.4542</td>\n",
       "      <td>7.227100</td>\n",
       "      <td>NaN</td>\n",
       "      <td>C</td>\n",
       "    </tr>\n",
       "  </tbody>\n",
       "</table>\n",
       "</div>"
      ],
      "text/plain": [
       "    Survived Pclass Title               SurName     Sex  family_size  \\\n",
       "164      0.0      3    Mr                Panula    male            6   \n",
       "568      0.0      3    Mr                Doharr    male            1   \n",
       "650      0.0      3    Mr               Mitkoff    male            1   \n",
       "505      0.0      1    Mr  Penasco y Castellana    male            2   \n",
       "362      0.0      3  Miss               Barbara  female            2   \n",
       "\n",
       "    family_type   Age    Ticket      Fare  indivitual_fare($) Cabin Embarked  \n",
       "164       large   1.0   3101295   39.6875            6.614583   NaN        S  \n",
       "568       alone   NaN      2686    7.2292            7.229200   NaN        C  \n",
       "650       alone   NaN    349221    7.8958            7.895800   NaN        S  \n",
       "505       small  18.0  PC 17758  108.9000           54.450000   C65        C  \n",
       "362       small  45.0      2691   14.4542            7.227100   NaN        C  "
      ]
     },
     "execution_count": 82,
     "metadata": {},
     "output_type": "execute_result"
    }
   ],
   "source": [
    "df.sample(5)"
   ]
  },
  {
   "cell_type": "code",
   "execution_count": 83,
   "id": "f14b0f0f-e596-4a9c-ad2d-fdf702a50cd1",
   "metadata": {},
   "outputs": [
    {
     "data": {
      "text/plain": [
       "1014"
      ]
     },
     "execution_count": 83,
     "metadata": {},
     "output_type": "execute_result"
    }
   ],
   "source": [
    "df[\"Cabin\"].isnull().sum()"
   ]
  },
  {
   "cell_type": "code",
   "execution_count": 84,
   "id": "0b14e555-b741-4abb-a456-dc5cae47241e",
   "metadata": {},
   "outputs": [],
   "source": [
    "df[\"Cabin\"].fillna(\"Missing\" ,inplace = True)"
   ]
  },
  {
   "cell_type": "code",
   "execution_count": 85,
   "id": "9c2a67c7-e968-40a8-83d3-2a5bf76fcc1a",
   "metadata": {},
   "outputs": [],
   "source": [
    "# using Cabin col i made one more new col which is deck\n",
    "df[\"deck\"] = df[\"Cabin\"].str[0]"
   ]
  },
  {
   "cell_type": "code",
   "execution_count": 86,
   "id": "24cfd9ee-28de-4b84-983a-bfd92f9e63f3",
   "metadata": {},
   "outputs": [
    {
     "data": {
      "text/plain": [
       "M    1014\n",
       "C      94\n",
       "B      65\n",
       "D      46\n",
       "E      41\n",
       "A      22\n",
       "F      21\n",
       "G       5\n",
       "T       1\n",
       "Name: deck, dtype: int64"
      ]
     },
     "execution_count": 86,
     "metadata": {},
     "output_type": "execute_result"
    }
   ],
   "source": [
    "df[\"deck\"].value_counts()"
   ]
  },
  {
   "cell_type": "code",
   "execution_count": 87,
   "id": "b806f260-b8e1-4602-8cdb-821e87961c66",
   "metadata": {},
   "outputs": [
    {
     "data": {
      "text/html": [
       "<div>\n",
       "<style scoped>\n",
       "    .dataframe tbody tr th:only-of-type {\n",
       "        vertical-align: middle;\n",
       "    }\n",
       "\n",
       "    .dataframe tbody tr th {\n",
       "        vertical-align: top;\n",
       "    }\n",
       "\n",
       "    .dataframe thead th {\n",
       "        text-align: right;\n",
       "    }\n",
       "</style>\n",
       "<table border=\"1\" class=\"dataframe\">\n",
       "  <thead>\n",
       "    <tr style=\"text-align: right;\">\n",
       "      <th>Survived</th>\n",
       "      <th>0.0</th>\n",
       "      <th>1.0</th>\n",
       "    </tr>\n",
       "    <tr>\n",
       "      <th>deck</th>\n",
       "      <th></th>\n",
       "      <th></th>\n",
       "    </tr>\n",
       "  </thead>\n",
       "  <tbody>\n",
       "    <tr>\n",
       "      <th>A</th>\n",
       "      <td>53.333333</td>\n",
       "      <td>46.666667</td>\n",
       "    </tr>\n",
       "    <tr>\n",
       "      <th>B</th>\n",
       "      <td>25.531915</td>\n",
       "      <td>74.468085</td>\n",
       "    </tr>\n",
       "    <tr>\n",
       "      <th>C</th>\n",
       "      <td>40.677966</td>\n",
       "      <td>59.322034</td>\n",
       "    </tr>\n",
       "    <tr>\n",
       "      <th>D</th>\n",
       "      <td>24.242424</td>\n",
       "      <td>75.757576</td>\n",
       "    </tr>\n",
       "    <tr>\n",
       "      <th>E</th>\n",
       "      <td>25.000000</td>\n",
       "      <td>75.000000</td>\n",
       "    </tr>\n",
       "    <tr>\n",
       "      <th>F</th>\n",
       "      <td>38.461538</td>\n",
       "      <td>61.538462</td>\n",
       "    </tr>\n",
       "    <tr>\n",
       "      <th>G</th>\n",
       "      <td>50.000000</td>\n",
       "      <td>50.000000</td>\n",
       "    </tr>\n",
       "    <tr>\n",
       "      <th>M</th>\n",
       "      <td>70.014556</td>\n",
       "      <td>29.985444</td>\n",
       "    </tr>\n",
       "    <tr>\n",
       "      <th>T</th>\n",
       "      <td>100.000000</td>\n",
       "      <td>0.000000</td>\n",
       "    </tr>\n",
       "  </tbody>\n",
       "</table>\n",
       "</div>"
      ],
      "text/plain": [
       "Survived         0.0        1.0\n",
       "deck                           \n",
       "A          53.333333  46.666667\n",
       "B          25.531915  74.468085\n",
       "C          40.677966  59.322034\n",
       "D          24.242424  75.757576\n",
       "E          25.000000  75.000000\n",
       "F          38.461538  61.538462\n",
       "G          50.000000  50.000000\n",
       "M          70.014556  29.985444\n",
       "T         100.000000   0.000000"
      ]
     },
     "execution_count": 87,
     "metadata": {},
     "output_type": "execute_result"
    }
   ],
   "source": [
    "pd.crosstab(df['deck'],df['Survived'],normalize='index')*100"
   ]
  },
  {
   "cell_type": "code",
   "execution_count": 88,
   "id": "c26ee0d2-4377-4c56-bc18-3e32231ea006",
   "metadata": {},
   "outputs": [
    {
     "data": {
      "text/plain": [
       "<Axes: xlabel='deck'>"
      ]
     },
     "execution_count": 88,
     "metadata": {},
     "output_type": "execute_result"
    },
    {
     "data": {
      "image/png": "[encoded data removed]",
      "text/plain": [
       "<Figure size 640x480 with 1 Axes>"
      ]
     },
     "metadata": {},
     "output_type": "display_data"
    }
   ],
   "source": [
    "pd.crosstab(df['deck'],df['Survived'],normalize='index').plot(kind='bar',stacked=True)"
   ]
  },
  {
   "cell_type": "code",
   "execution_count": 89,
   "id": "2eeb9c19-7e3a-4743-bc9d-3ecf3ab5bbc0",
   "metadata": {},
   "outputs": [
    {
     "data": {
      "text/plain": [
       "Survived              418\n",
       "Pclass                  0\n",
       "Title                   0\n",
       "SurName                 0\n",
       "Sex                     0\n",
       "family_size             0\n",
       "family_type             0\n",
       "Age                   263\n",
       "Ticket                  0\n",
       "Fare                    1\n",
       "indivitual_fare($)      1\n",
       "Cabin                   0\n",
       "Embarked                2\n",
       "deck                    0\n",
       "dtype: int64"
      ]
     },
     "execution_count": 89,
     "metadata": {},
     "output_type": "execute_result"
    }
   ],
   "source": [
    "df.isnull().sum()"
   ]
  },
  {
   "cell_type": "code",
   "execution_count": 90,
   "id": "8d5c0727-4652-4917-9b74-e1e038121284",
   "metadata": {},
   "outputs": [
    {
     "data": {
      "text/html": [
       "<div>\n",
       "<style scoped>\n",
       "    .dataframe tbody tr th:only-of-type {\n",
       "        vertical-align: middle;\n",
       "    }\n",
       "\n",
       "    .dataframe tbody tr th {\n",
       "        vertical-align: top;\n",
       "    }\n",
       "\n",
       "    .dataframe thead th {\n",
       "        text-align: right;\n",
       "    }\n",
       "</style>\n",
       "<table border=\"1\" class=\"dataframe\">\n",
       "  <thead>\n",
       "    <tr style=\"text-align: right;\">\n",
       "      <th></th>\n",
       "      <th>Survived</th>\n",
       "      <th>Pclass</th>\n",
       "      <th>Title</th>\n",
       "      <th>SurName</th>\n",
       "      <th>Sex</th>\n",
       "      <th>family_size</th>\n",
       "      <th>family_type</th>\n",
       "      <th>Age</th>\n",
       "      <th>Ticket</th>\n",
       "      <th>Fare</th>\n",
       "      <th>indivitual_fare($)</th>\n",
       "      <th>Cabin</th>\n",
       "      <th>Embarked</th>\n",
       "      <th>deck</th>\n",
       "    </tr>\n",
       "  </thead>\n",
       "  <tbody>\n",
       "    <tr>\n",
       "      <th>61</th>\n",
       "      <td>1.0</td>\n",
       "      <td>1</td>\n",
       "      <td>Miss</td>\n",
       "      <td>Icard</td>\n",
       "      <td>female</td>\n",
       "      <td>1</td>\n",
       "      <td>alone</td>\n",
       "      <td>38.0</td>\n",
       "      <td>113572</td>\n",
       "      <td>80.0</td>\n",
       "      <td>80.0</td>\n",
       "      <td>B28</td>\n",
       "      <td>NaN</td>\n",
       "      <td>B</td>\n",
       "    </tr>\n",
       "    <tr>\n",
       "      <th>829</th>\n",
       "      <td>1.0</td>\n",
       "      <td>1</td>\n",
       "      <td>Miss</td>\n",
       "      <td>Stone</td>\n",
       "      <td>female</td>\n",
       "      <td>1</td>\n",
       "      <td>alone</td>\n",
       "      <td>62.0</td>\n",
       "      <td>113572</td>\n",
       "      <td>80.0</td>\n",
       "      <td>80.0</td>\n",
       "      <td>B28</td>\n",
       "      <td>NaN</td>\n",
       "      <td>B</td>\n",
       "    </tr>\n",
       "  </tbody>\n",
       "</table>\n",
       "</div>"
      ],
      "text/plain": [
       "    Survived Pclass Title SurName     Sex  family_size family_type   Age  \\\n",
       "61       1.0      1  Miss   Icard  female            1       alone  38.0   \n",
       "829      1.0      1  Miss   Stone  female            1       alone  62.0   \n",
       "\n",
       "     Ticket  Fare  indivitual_fare($) Cabin Embarked deck  \n",
       "61   113572  80.0                80.0   B28      NaN    B  \n",
       "829  113572  80.0                80.0   B28      NaN    B  "
      ]
     },
     "execution_count": 90,
     "metadata": {},
     "output_type": "execute_result"
    }
   ],
   "source": [
    "# fill embarked missing values \n",
    "df[df[\"Embarked\"].isnull()]"
   ]
  },
  {
   "cell_type": "markdown",
   "id": "79cf37a8-a74a-40eb-a8e9-a521de5d7371",
   "metadata": {},
   "source": [
    "- by our analysis with survived and embarked we can easily fill this two values \n",
    "- our analysis was , if that person is from city C then more chance to survived and that's why i am replacing embarked values\n",
    "with the C"
   ]
  },
  {
   "cell_type": "code",
   "execution_count": 91,
   "id": "d00eb64e-cd3c-4d68-9ecf-2f18bba118f6",
   "metadata": {},
   "outputs": [],
   "source": [
    "df[\"Embarked\"].fillna(\"C\" , inplace=True)"
   ]
  },
  {
   "cell_type": "code",
   "execution_count": 92,
   "id": "b3678cc6-3510-4c22-ae5e-c94a2a75f52a",
   "metadata": {},
   "outputs": [
    {
     "data": {
      "text/html": [
       "<div>\n",
       "<style scoped>\n",
       "    .dataframe tbody tr th:only-of-type {\n",
       "        vertical-align: middle;\n",
       "    }\n",
       "\n",
       "    .dataframe tbody tr th {\n",
       "        vertical-align: top;\n",
       "    }\n",
       "\n",
       "    .dataframe thead th {\n",
       "        text-align: right;\n",
       "    }\n",
       "</style>\n",
       "<table border=\"1\" class=\"dataframe\">\n",
       "  <thead>\n",
       "    <tr style=\"text-align: right;\">\n",
       "      <th></th>\n",
       "      <th>Survived</th>\n",
       "      <th>Pclass</th>\n",
       "      <th>Title</th>\n",
       "      <th>SurName</th>\n",
       "      <th>Sex</th>\n",
       "      <th>family_size</th>\n",
       "      <th>family_type</th>\n",
       "      <th>Age</th>\n",
       "      <th>Ticket</th>\n",
       "      <th>Fare</th>\n",
       "      <th>indivitual_fare($)</th>\n",
       "      <th>Cabin</th>\n",
       "      <th>Embarked</th>\n",
       "      <th>deck</th>\n",
       "    </tr>\n",
       "  </thead>\n",
       "  <tbody>\n",
       "    <tr>\n",
       "      <th>1043</th>\n",
       "      <td>NaN</td>\n",
       "      <td>3</td>\n",
       "      <td>Mr</td>\n",
       "      <td>Storey</td>\n",
       "      <td>male</td>\n",
       "      <td>1</td>\n",
       "      <td>alone</td>\n",
       "      <td>60.5</td>\n",
       "      <td>3701</td>\n",
       "      <td>NaN</td>\n",
       "      <td>NaN</td>\n",
       "      <td>Missing</td>\n",
       "      <td>S</td>\n",
       "      <td>M</td>\n",
       "    </tr>\n",
       "  </tbody>\n",
       "</table>\n",
       "</div>"
      ],
      "text/plain": [
       "     Survived Pclass Title SurName   Sex  family_size family_type   Age  \\\n",
       "1043      NaN      3    Mr  Storey  male            1       alone  60.5   \n",
       "\n",
       "     Ticket  Fare  indivitual_fare($)    Cabin Embarked deck  \n",
       "1043   3701   NaN                 NaN  Missing        S    M  "
      ]
     },
     "execution_count": 92,
     "metadata": {},
     "output_type": "execute_result"
    }
   ],
   "source": [
    "df[df[\"indivitual_fare($)\"].isnull()]"
   ]
  },
  {
   "cell_type": "code",
   "execution_count": 93,
   "id": "82766472-e6bb-4c84-9272-bf60212f812f",
   "metadata": {},
   "outputs": [
    {
     "data": {
      "text/plain": [
       "Survived                  NaN\n",
       "Pclass                      3\n",
       "Title                      Mr\n",
       "SurName                Storey\n",
       "Sex                      male\n",
       "family_size                 1\n",
       "family_type             alone\n",
       "Age                      60.5\n",
       "Ticket                   3701\n",
       "Fare                      NaN\n",
       "indivitual_fare($)        NaN\n",
       "Cabin                 Missing\n",
       "Embarked                    S\n",
       "deck                        M\n",
       "Name: 1043, dtype: object"
      ]
     },
     "execution_count": 93,
     "metadata": {},
     "output_type": "execute_result"
    }
   ],
   "source": [
    "df.loc[1043]"
   ]
  },
  {
   "cell_type": "code",
   "execution_count": 94,
   "id": "128a2f0e-5eb7-4bcd-a70f-d6e5e8824d8e",
   "metadata": {},
   "outputs": [
    {
     "data": {
      "text/html": [
       "<div>\n",
       "<style scoped>\n",
       "    .dataframe tbody tr th:only-of-type {\n",
       "        vertical-align: middle;\n",
       "    }\n",
       "\n",
       "    .dataframe tbody tr th {\n",
       "        vertical-align: top;\n",
       "    }\n",
       "\n",
       "    .dataframe thead th {\n",
       "        text-align: right;\n",
       "    }\n",
       "</style>\n",
       "<table border=\"1\" class=\"dataframe\">\n",
       "  <thead>\n",
       "    <tr style=\"text-align: right;\">\n",
       "      <th></th>\n",
       "      <th>Survived</th>\n",
       "      <th>Pclass</th>\n",
       "      <th>Title</th>\n",
       "      <th>SurName</th>\n",
       "      <th>Sex</th>\n",
       "      <th>family_size</th>\n",
       "      <th>family_type</th>\n",
       "      <th>Age</th>\n",
       "      <th>Ticket</th>\n",
       "      <th>Fare</th>\n",
       "      <th>indivitual_fare($)</th>\n",
       "      <th>Cabin</th>\n",
       "      <th>Embarked</th>\n",
       "      <th>deck</th>\n",
       "    </tr>\n",
       "  </thead>\n",
       "  <tbody>\n",
       "    <tr>\n",
       "      <th>116</th>\n",
       "      <td>0.0</td>\n",
       "      <td>3</td>\n",
       "      <td>Mr</td>\n",
       "      <td>Connors</td>\n",
       "      <td>male</td>\n",
       "      <td>1</td>\n",
       "      <td>alone</td>\n",
       "      <td>70.5</td>\n",
       "      <td>370369</td>\n",
       "      <td>7.750</td>\n",
       "      <td>7.750</td>\n",
       "      <td>Missing</td>\n",
       "      <td>Q</td>\n",
       "      <td>M</td>\n",
       "    </tr>\n",
       "    <tr>\n",
       "      <th>280</th>\n",
       "      <td>0.0</td>\n",
       "      <td>3</td>\n",
       "      <td>Mr</td>\n",
       "      <td>Duane</td>\n",
       "      <td>male</td>\n",
       "      <td>1</td>\n",
       "      <td>alone</td>\n",
       "      <td>65.0</td>\n",
       "      <td>336439</td>\n",
       "      <td>7.750</td>\n",
       "      <td>7.750</td>\n",
       "      <td>Missing</td>\n",
       "      <td>Q</td>\n",
       "      <td>M</td>\n",
       "    </tr>\n",
       "    <tr>\n",
       "      <th>851</th>\n",
       "      <td>0.0</td>\n",
       "      <td>3</td>\n",
       "      <td>Mr</td>\n",
       "      <td>Svensson</td>\n",
       "      <td>male</td>\n",
       "      <td>1</td>\n",
       "      <td>alone</td>\n",
       "      <td>74.0</td>\n",
       "      <td>347060</td>\n",
       "      <td>7.775</td>\n",
       "      <td>7.775</td>\n",
       "      <td>Missing</td>\n",
       "      <td>S</td>\n",
       "      <td>M</td>\n",
       "    </tr>\n",
       "  </tbody>\n",
       "</table>\n",
       "</div>"
      ],
      "text/plain": [
       "    Survived Pclass Title   SurName   Sex  family_size family_type   Age  \\\n",
       "116      0.0      3    Mr   Connors  male            1       alone  70.5   \n",
       "280      0.0      3    Mr     Duane  male            1       alone  65.0   \n",
       "851      0.0      3    Mr  Svensson  male            1       alone  74.0   \n",
       "\n",
       "     Ticket   Fare  indivitual_fare($)    Cabin Embarked deck  \n",
       "116  370369  7.750               7.750  Missing        Q    M  \n",
       "280  336439  7.750               7.750  Missing        Q    M  \n",
       "851  347060  7.775               7.775  Missing        S    M  "
      ]
     },
     "execution_count": 94,
     "metadata": {},
     "output_type": "execute_result"
    }
   ],
   "source": [
    "df[(df[\"Pclass\"] ==3)&(df[\"Age\"] >=65)]"
   ]
  },
  {
   "cell_type": "code",
   "execution_count": 95,
   "id": "de044f2e-d413-4017-af8e-7eb2e270e65c",
   "metadata": {},
   "outputs": [],
   "source": [
    "# i am taking the avg value of those three persons who is having Pclass =3 and Age >=65\n",
    "# and that avg is 7.758\n",
    "df[\"indivitual_fare($)\"].fillna(7.758 , inplace = True)\n",
    "df[\"Fare\"].fillna(7.758 , inplace = True)"
   ]
  },
  {
   "cell_type": "code",
   "execution_count": 96,
   "id": "674d8361-a568-45c7-915c-46ec8cff3651",
   "metadata": {},
   "outputs": [
    {
     "data": {
      "text/plain": [
       "0"
      ]
     },
     "execution_count": 96,
     "metadata": {},
     "output_type": "execute_result"
    }
   ],
   "source": [
    "df[\"indivitual_fare($)\"].isnull().sum()"
   ]
  },
  {
   "cell_type": "code",
   "execution_count": 97,
   "id": "0c567452-9e5f-498d-9ee1-1286869be9c6",
   "metadata": {},
   "outputs": [
    {
     "data": {
      "text/plain": [
       "Survived              418\n",
       "Pclass                  0\n",
       "Title                   0\n",
       "SurName                 0\n",
       "Sex                     0\n",
       "family_size             0\n",
       "family_type             0\n",
       "Age                   263\n",
       "Ticket                  0\n",
       "Fare                    0\n",
       "indivitual_fare($)      0\n",
       "Cabin                   0\n",
       "Embarked                0\n",
       "deck                    0\n",
       "dtype: int64"
      ]
     },
     "execution_count": 97,
     "metadata": {},
     "output_type": "execute_result"
    }
   ],
   "source": [
    "df.isnull().sum()"
   ]
  },
  {
   "cell_type": "code",
   "execution_count": 98,
   "id": "b447987a-e8bd-48df-9ba6-6768259f2ef9",
   "metadata": {},
   "outputs": [
    {
     "data": {
      "text/plain": [
       "Pclass\n",
       "1    39.159930\n",
       "2    29.506705\n",
       "3    24.816367\n",
       "Name: Age, dtype: float64"
      ]
     },
     "execution_count": 98,
     "metadata": {},
     "output_type": "execute_result"
    }
   ],
   "source": [
    "df.groupby('Pclass')['Age'].mean()"
   ]
  },
  {
   "cell_type": "code",
   "execution_count": 99,
   "id": "1dc66217-5405-46ce-93c6-ba2dfb7ec76f",
   "metadata": {},
   "outputs": [],
   "source": [
    "average_age_by_pclass = df.groupby('Pclass')['Age'].mean()\n",
    "\n",
    "# Replace missing values in 'Age' with the corresponding average age based on 'Pclass'\n",
    "df['Age'] = df.apply(lambda row: row['Age'] if pd.notna(row['Age']) else average_age_by_pclass[row['Pclass']], axis=1)\n",
    "\n",
    "# Display the modified DataFrame\n"
   ]
  },
  {
   "cell_type": "code",
   "execution_count": 100,
   "id": "8512485d-26f0-49ee-803f-b8ca606461fe",
   "metadata": {},
   "outputs": [],
   "source": [
    "df.drop(columns=\"Cabin\" ,inplace = True)"
   ]
  },
  {
   "cell_type": "code",
   "execution_count": 101,
   "id": "60073fea-f845-41d6-8513-a293a657d44d",
   "metadata": {},
   "outputs": [
    {
     "data": {
      "text/plain": [
       "['Survived',\n",
       " 'Pclass',\n",
       " 'Title',\n",
       " 'SurName',\n",
       " 'Sex',\n",
       " 'family_size',\n",
       " 'family_type',\n",
       " 'Age',\n",
       " 'Ticket',\n",
       " 'Fare',\n",
       " 'indivitual_fare($)',\n",
       " 'Embarked',\n",
       " 'deck']"
      ]
     },
     "execution_count": 101,
     "metadata": {},
     "output_type": "execute_result"
    }
   ],
   "source": [
    "list(df.columns)"
   ]
  },
  {
   "cell_type": "code",
   "execution_count": 102,
   "id": "bfe6dad2-effc-4286-9919-8955d17c3fe0",
   "metadata": {},
   "outputs": [],
   "source": [
    "# here i have changed the order of column nothing else \n",
    "new_column_order = list(df.columns)\n",
    "new_column_order[12], new_column_order[11] = new_column_order[11], new_column_order[12]\n",
    "\n",
    "# Reorder the columns in the DataFrame based on their index\n",
    "df = df[new_column_order]"
   ]
  },
  {
   "cell_type": "code",
   "execution_count": 103,
   "id": "f4a65215-6610-4bfa-8285-2e28be0c33e4",
   "metadata": {},
   "outputs": [
    {
     "data": {
      "text/html": [
       "<div>\n",
       "<style scoped>\n",
       "    .dataframe tbody tr th:only-of-type {\n",
       "        vertical-align: middle;\n",
       "    }\n",
       "\n",
       "    .dataframe tbody tr th {\n",
       "        vertical-align: top;\n",
       "    }\n",
       "\n",
       "    .dataframe thead th {\n",
       "        text-align: right;\n",
       "    }\n",
       "</style>\n",
       "<table border=\"1\" class=\"dataframe\">\n",
       "  <thead>\n",
       "    <tr style=\"text-align: right;\">\n",
       "      <th></th>\n",
       "      <th>Survived</th>\n",
       "      <th>Pclass</th>\n",
       "      <th>Title</th>\n",
       "      <th>SurName</th>\n",
       "      <th>Sex</th>\n",
       "      <th>family_size</th>\n",
       "      <th>family_type</th>\n",
       "      <th>Age</th>\n",
       "      <th>Ticket</th>\n",
       "      <th>Fare</th>\n",
       "      <th>indivitual_fare($)</th>\n",
       "      <th>deck</th>\n",
       "      <th>Embarked</th>\n",
       "    </tr>\n",
       "  </thead>\n",
       "  <tbody>\n",
       "    <tr>\n",
       "      <th>0</th>\n",
       "      <td>0.0</td>\n",
       "      <td>3</td>\n",
       "      <td>Mr</td>\n",
       "      <td>Braund</td>\n",
       "      <td>male</td>\n",
       "      <td>2</td>\n",
       "      <td>small</td>\n",
       "      <td>22.000000</td>\n",
       "      <td>A/5 21171</td>\n",
       "      <td>7.2500</td>\n",
       "      <td>3.625000</td>\n",
       "      <td>M</td>\n",
       "      <td>S</td>\n",
       "    </tr>\n",
       "    <tr>\n",
       "      <th>1</th>\n",
       "      <td>1.0</td>\n",
       "      <td>1</td>\n",
       "      <td>Miss</td>\n",
       "      <td>Cumings</td>\n",
       "      <td>female</td>\n",
       "      <td>2</td>\n",
       "      <td>small</td>\n",
       "      <td>38.000000</td>\n",
       "      <td>PC 17599</td>\n",
       "      <td>71.2833</td>\n",
       "      <td>35.641650</td>\n",
       "      <td>C</td>\n",
       "      <td>C</td>\n",
       "    </tr>\n",
       "    <tr>\n",
       "      <th>2</th>\n",
       "      <td>1.0</td>\n",
       "      <td>3</td>\n",
       "      <td>Miss</td>\n",
       "      <td>Heikkinen</td>\n",
       "      <td>female</td>\n",
       "      <td>1</td>\n",
       "      <td>alone</td>\n",
       "      <td>26.000000</td>\n",
       "      <td>STON/O2. 3101282</td>\n",
       "      <td>7.9250</td>\n",
       "      <td>7.925000</td>\n",
       "      <td>M</td>\n",
       "      <td>S</td>\n",
       "    </tr>\n",
       "    <tr>\n",
       "      <th>3</th>\n",
       "      <td>1.0</td>\n",
       "      <td>1</td>\n",
       "      <td>Miss</td>\n",
       "      <td>Futrelle</td>\n",
       "      <td>female</td>\n",
       "      <td>2</td>\n",
       "      <td>small</td>\n",
       "      <td>35.000000</td>\n",
       "      <td>113803</td>\n",
       "      <td>53.1000</td>\n",
       "      <td>26.550000</td>\n",
       "      <td>C</td>\n",
       "      <td>S</td>\n",
       "    </tr>\n",
       "    <tr>\n",
       "      <th>4</th>\n",
       "      <td>0.0</td>\n",
       "      <td>3</td>\n",
       "      <td>Mr</td>\n",
       "      <td>Allen</td>\n",
       "      <td>male</td>\n",
       "      <td>1</td>\n",
       "      <td>alone</td>\n",
       "      <td>35.000000</td>\n",
       "      <td>373450</td>\n",
       "      <td>8.0500</td>\n",
       "      <td>8.050000</td>\n",
       "      <td>M</td>\n",
       "      <td>S</td>\n",
       "    </tr>\n",
       "    <tr>\n",
       "      <th>5</th>\n",
       "      <td>0.0</td>\n",
       "      <td>3</td>\n",
       "      <td>Mr</td>\n",
       "      <td>Moran</td>\n",
       "      <td>male</td>\n",
       "      <td>1</td>\n",
       "      <td>alone</td>\n",
       "      <td>24.816367</td>\n",
       "      <td>330877</td>\n",
       "      <td>8.4583</td>\n",
       "      <td>8.458300</td>\n",
       "      <td>M</td>\n",
       "      <td>Q</td>\n",
       "    </tr>\n",
       "    <tr>\n",
       "      <th>6</th>\n",
       "      <td>0.0</td>\n",
       "      <td>1</td>\n",
       "      <td>Mr</td>\n",
       "      <td>McCarthy</td>\n",
       "      <td>male</td>\n",
       "      <td>1</td>\n",
       "      <td>alone</td>\n",
       "      <td>54.000000</td>\n",
       "      <td>17463</td>\n",
       "      <td>51.8625</td>\n",
       "      <td>51.862500</td>\n",
       "      <td>E</td>\n",
       "      <td>S</td>\n",
       "    </tr>\n",
       "    <tr>\n",
       "      <th>7</th>\n",
       "      <td>0.0</td>\n",
       "      <td>3</td>\n",
       "      <td>Mr</td>\n",
       "      <td>Palsson</td>\n",
       "      <td>male</td>\n",
       "      <td>5</td>\n",
       "      <td>large</td>\n",
       "      <td>2.000000</td>\n",
       "      <td>349909</td>\n",
       "      <td>21.0750</td>\n",
       "      <td>4.215000</td>\n",
       "      <td>M</td>\n",
       "      <td>S</td>\n",
       "    </tr>\n",
       "    <tr>\n",
       "      <th>8</th>\n",
       "      <td>1.0</td>\n",
       "      <td>3</td>\n",
       "      <td>Miss</td>\n",
       "      <td>Johnson</td>\n",
       "      <td>female</td>\n",
       "      <td>3</td>\n",
       "      <td>small</td>\n",
       "      <td>27.000000</td>\n",
       "      <td>347742</td>\n",
       "      <td>11.1333</td>\n",
       "      <td>3.711100</td>\n",
       "      <td>M</td>\n",
       "      <td>S</td>\n",
       "    </tr>\n",
       "    <tr>\n",
       "      <th>9</th>\n",
       "      <td>1.0</td>\n",
       "      <td>2</td>\n",
       "      <td>Miss</td>\n",
       "      <td>Nasser</td>\n",
       "      <td>female</td>\n",
       "      <td>2</td>\n",
       "      <td>small</td>\n",
       "      <td>14.000000</td>\n",
       "      <td>237736</td>\n",
       "      <td>30.0708</td>\n",
       "      <td>15.035400</td>\n",
       "      <td>M</td>\n",
       "      <td>C</td>\n",
       "    </tr>\n",
       "    <tr>\n",
       "      <th>10</th>\n",
       "      <td>1.0</td>\n",
       "      <td>3</td>\n",
       "      <td>Miss</td>\n",
       "      <td>Sandstrom</td>\n",
       "      <td>female</td>\n",
       "      <td>3</td>\n",
       "      <td>small</td>\n",
       "      <td>4.000000</td>\n",
       "      <td>PP 9549</td>\n",
       "      <td>16.7000</td>\n",
       "      <td>5.566667</td>\n",
       "      <td>G</td>\n",
       "      <td>S</td>\n",
       "    </tr>\n",
       "    <tr>\n",
       "      <th>11</th>\n",
       "      <td>1.0</td>\n",
       "      <td>1</td>\n",
       "      <td>Miss</td>\n",
       "      <td>Bonnell</td>\n",
       "      <td>female</td>\n",
       "      <td>1</td>\n",
       "      <td>alone</td>\n",
       "      <td>58.000000</td>\n",
       "      <td>113783</td>\n",
       "      <td>26.5500</td>\n",
       "      <td>26.550000</td>\n",
       "      <td>C</td>\n",
       "      <td>S</td>\n",
       "    </tr>\n",
       "    <tr>\n",
       "      <th>12</th>\n",
       "      <td>0.0</td>\n",
       "      <td>3</td>\n",
       "      <td>Mr</td>\n",
       "      <td>Saundercock</td>\n",
       "      <td>male</td>\n",
       "      <td>1</td>\n",
       "      <td>alone</td>\n",
       "      <td>20.000000</td>\n",
       "      <td>A/5. 2151</td>\n",
       "      <td>8.0500</td>\n",
       "      <td>8.050000</td>\n",
       "      <td>M</td>\n",
       "      <td>S</td>\n",
       "    </tr>\n",
       "    <tr>\n",
       "      <th>13</th>\n",
       "      <td>0.0</td>\n",
       "      <td>3</td>\n",
       "      <td>Mr</td>\n",
       "      <td>Andersson</td>\n",
       "      <td>male</td>\n",
       "      <td>7</td>\n",
       "      <td>large</td>\n",
       "      <td>39.000000</td>\n",
       "      <td>347082</td>\n",
       "      <td>31.2750</td>\n",
       "      <td>4.467857</td>\n",
       "      <td>M</td>\n",
       "      <td>S</td>\n",
       "    </tr>\n",
       "    <tr>\n",
       "      <th>14</th>\n",
       "      <td>0.0</td>\n",
       "      <td>3</td>\n",
       "      <td>Miss</td>\n",
       "      <td>Vestrom</td>\n",
       "      <td>female</td>\n",
       "      <td>1</td>\n",
       "      <td>alone</td>\n",
       "      <td>14.000000</td>\n",
       "      <td>350406</td>\n",
       "      <td>7.8542</td>\n",
       "      <td>7.854200</td>\n",
       "      <td>M</td>\n",
       "      <td>S</td>\n",
       "    </tr>\n",
       "  </tbody>\n",
       "</table>\n",
       "</div>"
      ],
      "text/plain": [
       "   Survived Pclass Title      SurName     Sex  family_size family_type  \\\n",
       "0       0.0      3    Mr       Braund    male            2       small   \n",
       "1       1.0      1  Miss      Cumings  female            2       small   \n",
       "2       1.0      3  Miss    Heikkinen  female            1       alone   \n",
       "3       1.0      1  Miss     Futrelle  female            2       small   \n",
       "4       0.0      3    Mr        Allen    male            1       alone   \n",
       "5       0.0      3    Mr        Moran    male            1       alone   \n",
       "6       0.0      1    Mr     McCarthy    male            1       alone   \n",
       "7       0.0      3    Mr      Palsson    male            5       large   \n",
       "8       1.0      3  Miss      Johnson  female            3       small   \n",
       "9       1.0      2  Miss       Nasser  female            2       small   \n",
       "10      1.0      3  Miss    Sandstrom  female            3       small   \n",
       "11      1.0      1  Miss      Bonnell  female            1       alone   \n",
       "12      0.0      3    Mr  Saundercock    male            1       alone   \n",
       "13      0.0      3    Mr    Andersson    male            7       large   \n",
       "14      0.0      3  Miss      Vestrom  female            1       alone   \n",
       "\n",
       "          Age            Ticket     Fare  indivitual_fare($) deck Embarked  \n",
       "0   22.000000         A/5 21171   7.2500            3.625000    M        S  \n",
       "1   38.000000          PC 17599  71.2833           35.641650    C        C  \n",
       "2   26.000000  STON/O2. 3101282   7.9250            7.925000    M        S  \n",
       "3   35.000000            113803  53.1000           26.550000    C        S  \n",
       "4   35.000000            373450   8.0500            8.050000    M        S  \n",
       "5   24.816367            330877   8.4583            8.458300    M        Q  \n",
       "6   54.000000             17463  51.8625           51.862500    E        S  \n",
       "7    2.000000            349909  21.0750            4.215000    M        S  \n",
       "8   27.000000            347742  11.1333            3.711100    M        S  \n",
       "9   14.000000            237736  30.0708           15.035400    M        C  \n",
       "10   4.000000           PP 9549  16.7000            5.566667    G        S  \n",
       "11  58.000000            113783  26.5500           26.550000    C        S  \n",
       "12  20.000000         A/5. 2151   8.0500            8.050000    M        S  \n",
       "13  39.000000            347082  31.2750            4.467857    M        S  \n",
       "14  14.000000            350406   7.8542            7.854200    M        S  "
      ]
     },
     "execution_count": 103,
     "metadata": {},
     "output_type": "execute_result"
    }
   ],
   "source": [
    "df.head(15)"
   ]
  },
  {
   "cell_type": "code",
   "execution_count": 104,
   "id": "6dbeae89-60ee-409c-baca-e66e03658ed4",
   "metadata": {},
   "outputs": [
    {
     "data": {
      "text/plain": [
       "Survived              418\n",
       "Pclass                  0\n",
       "Title                   0\n",
       "SurName                 0\n",
       "Sex                     0\n",
       "family_size             0\n",
       "family_type             0\n",
       "Age                     0\n",
       "Ticket                  0\n",
       "Fare                    0\n",
       "indivitual_fare($)      0\n",
       "deck                    0\n",
       "Embarked                0\n",
       "dtype: int64"
      ]
     },
     "execution_count": 104,
     "metadata": {},
     "output_type": "execute_result"
    }
   ],
   "source": [
    "df.isnull().sum()"
   ]
  },
  {
   "cell_type": "code",
   "execution_count": 105,
   "id": "6d316e62-7f7c-4585-90d0-c15a5435f2fc",
   "metadata": {},
   "outputs": [],
   "source": [
    "df.to_csv(\"TITANIC_EDA_DATASET.csv\")"
   ]
  },
  {
   "cell_type": "code",
   "execution_count": null,
   "id": "f1ff9526-025d-4dbb-9d70-04407ab705da",
   "metadata": {},
   "outputs": [],
   "source": [
    "https://github.com/mayurdalvi3003/PRODIGY_DS_Task2.git"
   ]
  }
 ],
 "metadata": {
  "kernelspec": {
   "display_name": "Python 3 (ipykernel)",
   "language": "python",
   "name": "python3"
  },
  "language_info": {
   "codemirror_mode": {
    "name": "ipython",
    "version": 3
   },
   "file_extension": ".py",
   "mimetype": "text/x-python",
   "name": "python",
   "nbconvert_exporter": "python",
   "pygments_lexer": "ipython3",
   "version": "3.11.1"
  }
 },
 "nbformat": 4,
 "nbformat_minor": 5
}
